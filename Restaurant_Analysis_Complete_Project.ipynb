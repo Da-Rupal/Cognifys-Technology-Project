{
 "cells": [
  {
   "cell_type": "markdown",
   "id": "961dd2a4",
   "metadata": {},
   "source": [
    "# Restaurant_Analysis"
   ]
  },
  {
   "cell_type": "markdown",
   "id": "ac8a3f85",
   "metadata": {},
   "source": [
    "# Table of Content :"
   ]
  },
  {
   "cell_type": "markdown",
   "id": "b9245db4",
   "metadata": {},
   "source": [
    "- Overview\n",
    "- Importing libraries\n",
    "- Inporting Dataset\n",
    "- Basic information of the dataset\n",
    "- Data cleaning\n",
    "- Level 1 tasks\n",
    "- Level 2 tasks\n",
    "- Level 3 tasks\n",
    "- Summery"
   ]
  },
  {
   "cell_type": "markdown",
   "id": "e355fe51",
   "metadata": {},
   "source": [
    "# Overview"
   ]
  },
  {
   "cell_type": "markdown",
   "id": "58e4d055",
   "metadata": {},
   "source": [
    "The project aims to provide insights into restaurant performance through data analysis. By leveraging customer reviews, price range, and other relevant information, uncovering trends and patterns that can help restaurants make informed decisions."
   ]
  },
  {
   "cell_type": "markdown",
   "id": "2fb66ce4",
   "metadata": {},
   "source": [
    "# Importing libraries"
   ]
  },
  {
   "cell_type": "code",
   "execution_count": 4,
   "id": "ecf2c1fd",
   "metadata": {},
   "outputs": [],
   "source": [
    "import pandas as pd\n",
    "import numpy as np\n",
    "import matplotlib.pyplot as plt\n",
    "import seaborn as sns\n",
    "sns.set(style=\"whitegrid\")"
   ]
  },
  {
   "cell_type": "markdown",
   "id": "8996de21",
   "metadata": {},
   "source": [
    "# Importing Dataset"
   ]
  },
  {
   "cell_type": "code",
   "execution_count": 5,
   "id": "f6dd38c8",
   "metadata": {},
   "outputs": [
    {
     "data": {
      "text/html": [
       "<div>\n",
       "<style scoped>\n",
       "    .dataframe tbody tr th:only-of-type {\n",
       "        vertical-align: middle;\n",
       "    }\n",
       "\n",
       "    .dataframe tbody tr th {\n",
       "        vertical-align: top;\n",
       "    }\n",
       "\n",
       "    .dataframe thead th {\n",
       "        text-align: right;\n",
       "    }\n",
       "</style>\n",
       "<table border=\"1\" class=\"dataframe\">\n",
       "  <thead>\n",
       "    <tr style=\"text-align: right;\">\n",
       "      <th></th>\n",
       "      <th>Restaurant ID</th>\n",
       "      <th>Restaurant Name</th>\n",
       "      <th>Country Code</th>\n",
       "      <th>City</th>\n",
       "      <th>Address</th>\n",
       "      <th>Locality</th>\n",
       "      <th>Locality Verbose</th>\n",
       "      <th>Longitude</th>\n",
       "      <th>Latitude</th>\n",
       "      <th>Cuisines</th>\n",
       "      <th>...</th>\n",
       "      <th>Currency</th>\n",
       "      <th>Has Table booking</th>\n",
       "      <th>Has Online delivery</th>\n",
       "      <th>Is delivering now</th>\n",
       "      <th>Switch to order menu</th>\n",
       "      <th>Price range</th>\n",
       "      <th>Aggregate rating</th>\n",
       "      <th>Rating color</th>\n",
       "      <th>Rating text</th>\n",
       "      <th>Votes</th>\n",
       "    </tr>\n",
       "  </thead>\n",
       "  <tbody>\n",
       "    <tr>\n",
       "      <th>0</th>\n",
       "      <td>6317637</td>\n",
       "      <td>Le Petit Souffle</td>\n",
       "      <td>162</td>\n",
       "      <td>Makati City</td>\n",
       "      <td>Third Floor, Century City Mall, Kalayaan Avenu...</td>\n",
       "      <td>Century City Mall, Poblacion, Makati City</td>\n",
       "      <td>Century City Mall, Poblacion, Makati City, Mak...</td>\n",
       "      <td>121.027535</td>\n",
       "      <td>14.565443</td>\n",
       "      <td>French, Japanese, Desserts</td>\n",
       "      <td>...</td>\n",
       "      <td>Botswana Pula(P)</td>\n",
       "      <td>Yes</td>\n",
       "      <td>No</td>\n",
       "      <td>No</td>\n",
       "      <td>No</td>\n",
       "      <td>3</td>\n",
       "      <td>4.8</td>\n",
       "      <td>Dark Green</td>\n",
       "      <td>Excellent</td>\n",
       "      <td>314</td>\n",
       "    </tr>\n",
       "    <tr>\n",
       "      <th>1</th>\n",
       "      <td>6304287</td>\n",
       "      <td>Izakaya Kikufuji</td>\n",
       "      <td>162</td>\n",
       "      <td>Makati City</td>\n",
       "      <td>Little Tokyo, 2277 Chino Roces Avenue, Legaspi...</td>\n",
       "      <td>Little Tokyo, Legaspi Village, Makati City</td>\n",
       "      <td>Little Tokyo, Legaspi Village, Makati City, Ma...</td>\n",
       "      <td>121.014101</td>\n",
       "      <td>14.553708</td>\n",
       "      <td>Japanese</td>\n",
       "      <td>...</td>\n",
       "      <td>Botswana Pula(P)</td>\n",
       "      <td>Yes</td>\n",
       "      <td>No</td>\n",
       "      <td>No</td>\n",
       "      <td>No</td>\n",
       "      <td>3</td>\n",
       "      <td>4.5</td>\n",
       "      <td>Dark Green</td>\n",
       "      <td>Excellent</td>\n",
       "      <td>591</td>\n",
       "    </tr>\n",
       "    <tr>\n",
       "      <th>2</th>\n",
       "      <td>6300002</td>\n",
       "      <td>Heat - Edsa Shangri-La</td>\n",
       "      <td>162</td>\n",
       "      <td>Mandaluyong City</td>\n",
       "      <td>Edsa Shangri-La, 1 Garden Way, Ortigas, Mandal...</td>\n",
       "      <td>Edsa Shangri-La, Ortigas, Mandaluyong City</td>\n",
       "      <td>Edsa Shangri-La, Ortigas, Mandaluyong City, Ma...</td>\n",
       "      <td>121.056831</td>\n",
       "      <td>14.581404</td>\n",
       "      <td>Seafood, Asian, Filipino, Indian</td>\n",
       "      <td>...</td>\n",
       "      <td>Botswana Pula(P)</td>\n",
       "      <td>Yes</td>\n",
       "      <td>No</td>\n",
       "      <td>No</td>\n",
       "      <td>No</td>\n",
       "      <td>4</td>\n",
       "      <td>4.4</td>\n",
       "      <td>Green</td>\n",
       "      <td>Very Good</td>\n",
       "      <td>270</td>\n",
       "    </tr>\n",
       "    <tr>\n",
       "      <th>3</th>\n",
       "      <td>6318506</td>\n",
       "      <td>Ooma</td>\n",
       "      <td>162</td>\n",
       "      <td>Mandaluyong City</td>\n",
       "      <td>Third Floor, Mega Fashion Hall, SM Megamall, O...</td>\n",
       "      <td>SM Megamall, Ortigas, Mandaluyong City</td>\n",
       "      <td>SM Megamall, Ortigas, Mandaluyong City, Mandal...</td>\n",
       "      <td>121.056475</td>\n",
       "      <td>14.585318</td>\n",
       "      <td>Japanese, Sushi</td>\n",
       "      <td>...</td>\n",
       "      <td>Botswana Pula(P)</td>\n",
       "      <td>No</td>\n",
       "      <td>No</td>\n",
       "      <td>No</td>\n",
       "      <td>No</td>\n",
       "      <td>4</td>\n",
       "      <td>4.9</td>\n",
       "      <td>Dark Green</td>\n",
       "      <td>Excellent</td>\n",
       "      <td>365</td>\n",
       "    </tr>\n",
       "    <tr>\n",
       "      <th>4</th>\n",
       "      <td>6314302</td>\n",
       "      <td>Sambo Kojin</td>\n",
       "      <td>162</td>\n",
       "      <td>Mandaluyong City</td>\n",
       "      <td>Third Floor, Mega Atrium, SM Megamall, Ortigas...</td>\n",
       "      <td>SM Megamall, Ortigas, Mandaluyong City</td>\n",
       "      <td>SM Megamall, Ortigas, Mandaluyong City, Mandal...</td>\n",
       "      <td>121.057508</td>\n",
       "      <td>14.584450</td>\n",
       "      <td>Japanese, Korean</td>\n",
       "      <td>...</td>\n",
       "      <td>Botswana Pula(P)</td>\n",
       "      <td>Yes</td>\n",
       "      <td>No</td>\n",
       "      <td>No</td>\n",
       "      <td>No</td>\n",
       "      <td>4</td>\n",
       "      <td>4.8</td>\n",
       "      <td>Dark Green</td>\n",
       "      <td>Excellent</td>\n",
       "      <td>229</td>\n",
       "    </tr>\n",
       "    <tr>\n",
       "      <th>...</th>\n",
       "      <td>...</td>\n",
       "      <td>...</td>\n",
       "      <td>...</td>\n",
       "      <td>...</td>\n",
       "      <td>...</td>\n",
       "      <td>...</td>\n",
       "      <td>...</td>\n",
       "      <td>...</td>\n",
       "      <td>...</td>\n",
       "      <td>...</td>\n",
       "      <td>...</td>\n",
       "      <td>...</td>\n",
       "      <td>...</td>\n",
       "      <td>...</td>\n",
       "      <td>...</td>\n",
       "      <td>...</td>\n",
       "      <td>...</td>\n",
       "      <td>...</td>\n",
       "      <td>...</td>\n",
       "      <td>...</td>\n",
       "      <td>...</td>\n",
       "    </tr>\n",
       "    <tr>\n",
       "      <th>9546</th>\n",
       "      <td>5915730</td>\n",
       "      <td>Naml۱ Gurme</td>\n",
       "      <td>208</td>\n",
       "      <td>��stanbul</td>\n",
       "      <td>Kemanke�� Karamustafa Pa��a Mahallesi, R۱ht۱m ...</td>\n",
       "      <td>Karak�_y</td>\n",
       "      <td>Karak�_y, ��stanbul</td>\n",
       "      <td>28.977392</td>\n",
       "      <td>41.022793</td>\n",
       "      <td>Turkish</td>\n",
       "      <td>...</td>\n",
       "      <td>Turkish Lira(TL)</td>\n",
       "      <td>No</td>\n",
       "      <td>No</td>\n",
       "      <td>No</td>\n",
       "      <td>No</td>\n",
       "      <td>3</td>\n",
       "      <td>4.1</td>\n",
       "      <td>Green</td>\n",
       "      <td>Very Good</td>\n",
       "      <td>788</td>\n",
       "    </tr>\n",
       "    <tr>\n",
       "      <th>9547</th>\n",
       "      <td>5908749</td>\n",
       "      <td>Ceviz A��ac۱</td>\n",
       "      <td>208</td>\n",
       "      <td>��stanbul</td>\n",
       "      <td>Ko��uyolu Mahallesi, Muhittin ��st�_nda�� Cadd...</td>\n",
       "      <td>Ko��uyolu</td>\n",
       "      <td>Ko��uyolu, ��stanbul</td>\n",
       "      <td>29.041297</td>\n",
       "      <td>41.009847</td>\n",
       "      <td>World Cuisine, Patisserie, Cafe</td>\n",
       "      <td>...</td>\n",
       "      <td>Turkish Lira(TL)</td>\n",
       "      <td>No</td>\n",
       "      <td>No</td>\n",
       "      <td>No</td>\n",
       "      <td>No</td>\n",
       "      <td>3</td>\n",
       "      <td>4.2</td>\n",
       "      <td>Green</td>\n",
       "      <td>Very Good</td>\n",
       "      <td>1034</td>\n",
       "    </tr>\n",
       "    <tr>\n",
       "      <th>9548</th>\n",
       "      <td>5915807</td>\n",
       "      <td>Huqqa</td>\n",
       "      <td>208</td>\n",
       "      <td>��stanbul</td>\n",
       "      <td>Kuru�_e��me Mahallesi, Muallim Naci Caddesi, N...</td>\n",
       "      <td>Kuru�_e��me</td>\n",
       "      <td>Kuru�_e��me, ��stanbul</td>\n",
       "      <td>29.034640</td>\n",
       "      <td>41.055817</td>\n",
       "      <td>Italian, World Cuisine</td>\n",
       "      <td>...</td>\n",
       "      <td>Turkish Lira(TL)</td>\n",
       "      <td>No</td>\n",
       "      <td>No</td>\n",
       "      <td>No</td>\n",
       "      <td>No</td>\n",
       "      <td>4</td>\n",
       "      <td>3.7</td>\n",
       "      <td>Yellow</td>\n",
       "      <td>Good</td>\n",
       "      <td>661</td>\n",
       "    </tr>\n",
       "    <tr>\n",
       "      <th>9549</th>\n",
       "      <td>5916112</td>\n",
       "      <td>A���k Kahve</td>\n",
       "      <td>208</td>\n",
       "      <td>��stanbul</td>\n",
       "      <td>Kuru�_e��me Mahallesi, Muallim Naci Caddesi, N...</td>\n",
       "      <td>Kuru�_e��me</td>\n",
       "      <td>Kuru�_e��me, ��stanbul</td>\n",
       "      <td>29.036019</td>\n",
       "      <td>41.057979</td>\n",
       "      <td>Restaurant Cafe</td>\n",
       "      <td>...</td>\n",
       "      <td>Turkish Lira(TL)</td>\n",
       "      <td>No</td>\n",
       "      <td>No</td>\n",
       "      <td>No</td>\n",
       "      <td>No</td>\n",
       "      <td>4</td>\n",
       "      <td>4.0</td>\n",
       "      <td>Green</td>\n",
       "      <td>Very Good</td>\n",
       "      <td>901</td>\n",
       "    </tr>\n",
       "    <tr>\n",
       "      <th>9550</th>\n",
       "      <td>5927402</td>\n",
       "      <td>Walter's Coffee Roastery</td>\n",
       "      <td>208</td>\n",
       "      <td>��stanbul</td>\n",
       "      <td>Cafea��a Mahallesi, Bademalt۱ Sokak, No 21/B, ...</td>\n",
       "      <td>Moda</td>\n",
       "      <td>Moda, ��stanbul</td>\n",
       "      <td>29.026016</td>\n",
       "      <td>40.984776</td>\n",
       "      <td>Cafe</td>\n",
       "      <td>...</td>\n",
       "      <td>Turkish Lira(TL)</td>\n",
       "      <td>No</td>\n",
       "      <td>No</td>\n",
       "      <td>No</td>\n",
       "      <td>No</td>\n",
       "      <td>2</td>\n",
       "      <td>4.0</td>\n",
       "      <td>Green</td>\n",
       "      <td>Very Good</td>\n",
       "      <td>591</td>\n",
       "    </tr>\n",
       "  </tbody>\n",
       "</table>\n",
       "<p>9551 rows × 21 columns</p>\n",
       "</div>"
      ],
      "text/plain": [
       "      Restaurant ID           Restaurant Name  Country Code              City  \\\n",
       "0           6317637          Le Petit Souffle           162       Makati City   \n",
       "1           6304287          Izakaya Kikufuji           162       Makati City   \n",
       "2           6300002    Heat - Edsa Shangri-La           162  Mandaluyong City   \n",
       "3           6318506                      Ooma           162  Mandaluyong City   \n",
       "4           6314302               Sambo Kojin           162  Mandaluyong City   \n",
       "...             ...                       ...           ...               ...   \n",
       "9546        5915730               Naml۱ Gurme           208         ��stanbul   \n",
       "9547        5908749              Ceviz A��ac۱           208         ��stanbul   \n",
       "9548        5915807                     Huqqa           208         ��stanbul   \n",
       "9549        5916112               A���k Kahve           208         ��stanbul   \n",
       "9550        5927402  Walter's Coffee Roastery           208         ��stanbul   \n",
       "\n",
       "                                                Address  \\\n",
       "0     Third Floor, Century City Mall, Kalayaan Avenu...   \n",
       "1     Little Tokyo, 2277 Chino Roces Avenue, Legaspi...   \n",
       "2     Edsa Shangri-La, 1 Garden Way, Ortigas, Mandal...   \n",
       "3     Third Floor, Mega Fashion Hall, SM Megamall, O...   \n",
       "4     Third Floor, Mega Atrium, SM Megamall, Ortigas...   \n",
       "...                                                 ...   \n",
       "9546  Kemanke�� Karamustafa Pa��a Mahallesi, R۱ht۱m ...   \n",
       "9547  Ko��uyolu Mahallesi, Muhittin ��st�_nda�� Cadd...   \n",
       "9548  Kuru�_e��me Mahallesi, Muallim Naci Caddesi, N...   \n",
       "9549  Kuru�_e��me Mahallesi, Muallim Naci Caddesi, N...   \n",
       "9550  Cafea��a Mahallesi, Bademalt۱ Sokak, No 21/B, ...   \n",
       "\n",
       "                                        Locality  \\\n",
       "0      Century City Mall, Poblacion, Makati City   \n",
       "1     Little Tokyo, Legaspi Village, Makati City   \n",
       "2     Edsa Shangri-La, Ortigas, Mandaluyong City   \n",
       "3         SM Megamall, Ortigas, Mandaluyong City   \n",
       "4         SM Megamall, Ortigas, Mandaluyong City   \n",
       "...                                          ...   \n",
       "9546                                    Karak�_y   \n",
       "9547                                   Ko��uyolu   \n",
       "9548                                 Kuru�_e��me   \n",
       "9549                                 Kuru�_e��me   \n",
       "9550                                        Moda   \n",
       "\n",
       "                                       Locality Verbose   Longitude  \\\n",
       "0     Century City Mall, Poblacion, Makati City, Mak...  121.027535   \n",
       "1     Little Tokyo, Legaspi Village, Makati City, Ma...  121.014101   \n",
       "2     Edsa Shangri-La, Ortigas, Mandaluyong City, Ma...  121.056831   \n",
       "3     SM Megamall, Ortigas, Mandaluyong City, Mandal...  121.056475   \n",
       "4     SM Megamall, Ortigas, Mandaluyong City, Mandal...  121.057508   \n",
       "...                                                 ...         ...   \n",
       "9546                                Karak�_y, ��stanbul   28.977392   \n",
       "9547                               Ko��uyolu, ��stanbul   29.041297   \n",
       "9548                             Kuru�_e��me, ��stanbul   29.034640   \n",
       "9549                             Kuru�_e��me, ��stanbul   29.036019   \n",
       "9550                                    Moda, ��stanbul   29.026016   \n",
       "\n",
       "       Latitude                          Cuisines  ...          Currency  \\\n",
       "0     14.565443        French, Japanese, Desserts  ...  Botswana Pula(P)   \n",
       "1     14.553708                          Japanese  ...  Botswana Pula(P)   \n",
       "2     14.581404  Seafood, Asian, Filipino, Indian  ...  Botswana Pula(P)   \n",
       "3     14.585318                   Japanese, Sushi  ...  Botswana Pula(P)   \n",
       "4     14.584450                  Japanese, Korean  ...  Botswana Pula(P)   \n",
       "...         ...                               ...  ...               ...   \n",
       "9546  41.022793                           Turkish  ...  Turkish Lira(TL)   \n",
       "9547  41.009847   World Cuisine, Patisserie, Cafe  ...  Turkish Lira(TL)   \n",
       "9548  41.055817            Italian, World Cuisine  ...  Turkish Lira(TL)   \n",
       "9549  41.057979                   Restaurant Cafe  ...  Turkish Lira(TL)   \n",
       "9550  40.984776                              Cafe  ...  Turkish Lira(TL)   \n",
       "\n",
       "     Has Table booking Has Online delivery Is delivering now  \\\n",
       "0                  Yes                  No                No   \n",
       "1                  Yes                  No                No   \n",
       "2                  Yes                  No                No   \n",
       "3                   No                  No                No   \n",
       "4                  Yes                  No                No   \n",
       "...                ...                 ...               ...   \n",
       "9546                No                  No                No   \n",
       "9547                No                  No                No   \n",
       "9548                No                  No                No   \n",
       "9549                No                  No                No   \n",
       "9550                No                  No                No   \n",
       "\n",
       "     Switch to order menu Price range  Aggregate rating  Rating color  \\\n",
       "0                      No           3               4.8    Dark Green   \n",
       "1                      No           3               4.5    Dark Green   \n",
       "2                      No           4               4.4         Green   \n",
       "3                      No           4               4.9    Dark Green   \n",
       "4                      No           4               4.8    Dark Green   \n",
       "...                   ...         ...               ...           ...   \n",
       "9546                   No           3               4.1         Green   \n",
       "9547                   No           3               4.2         Green   \n",
       "9548                   No           4               3.7        Yellow   \n",
       "9549                   No           4               4.0         Green   \n",
       "9550                   No           2               4.0         Green   \n",
       "\n",
       "     Rating text Votes  \n",
       "0      Excellent   314  \n",
       "1      Excellent   591  \n",
       "2      Very Good   270  \n",
       "3      Excellent   365  \n",
       "4      Excellent   229  \n",
       "...          ...   ...  \n",
       "9546   Very Good   788  \n",
       "9547   Very Good  1034  \n",
       "9548        Good   661  \n",
       "9549   Very Good   901  \n",
       "9550   Very Good   591  \n",
       "\n",
       "[9551 rows x 21 columns]"
      ]
     },
     "execution_count": 5,
     "metadata": {},
     "output_type": "execute_result"
    }
   ],
   "source": [
    "df = pd.read_csv(r\"C:\\Users\\DELL\\Downloads\\Internship_2024\\Cognifyz_Project\\Dataset_Cognifyz.csv\")\n",
    "df"
   ]
  },
  {
   "cell_type": "markdown",
   "id": "1dfdda66",
   "metadata": {},
   "source": [
    "# Basic information of the Dataset"
   ]
  },
  {
   "cell_type": "code",
   "execution_count": 8,
   "id": "f7543c1b",
   "metadata": {},
   "outputs": [
    {
     "data": {
      "text/html": [
       "<div>\n",
       "<style scoped>\n",
       "    .dataframe tbody tr th:only-of-type {\n",
       "        vertical-align: middle;\n",
       "    }\n",
       "\n",
       "    .dataframe tbody tr th {\n",
       "        vertical-align: top;\n",
       "    }\n",
       "\n",
       "    .dataframe thead th {\n",
       "        text-align: right;\n",
       "    }\n",
       "</style>\n",
       "<table border=\"1\" class=\"dataframe\">\n",
       "  <thead>\n",
       "    <tr style=\"text-align: right;\">\n",
       "      <th></th>\n",
       "      <th>Restaurant ID</th>\n",
       "      <th>Restaurant Name</th>\n",
       "      <th>Country Code</th>\n",
       "      <th>City</th>\n",
       "      <th>Address</th>\n",
       "      <th>Locality</th>\n",
       "      <th>Locality Verbose</th>\n",
       "      <th>Longitude</th>\n",
       "      <th>Latitude</th>\n",
       "      <th>Cuisines</th>\n",
       "      <th>...</th>\n",
       "      <th>Currency</th>\n",
       "      <th>Has Table booking</th>\n",
       "      <th>Has Online delivery</th>\n",
       "      <th>Is delivering now</th>\n",
       "      <th>Switch to order menu</th>\n",
       "      <th>Price range</th>\n",
       "      <th>Aggregate rating</th>\n",
       "      <th>Rating color</th>\n",
       "      <th>Rating text</th>\n",
       "      <th>Votes</th>\n",
       "    </tr>\n",
       "  </thead>\n",
       "  <tbody>\n",
       "    <tr>\n",
       "      <th>0</th>\n",
       "      <td>6317637</td>\n",
       "      <td>Le Petit Souffle</td>\n",
       "      <td>162</td>\n",
       "      <td>Makati City</td>\n",
       "      <td>Third Floor, Century City Mall, Kalayaan Avenu...</td>\n",
       "      <td>Century City Mall, Poblacion, Makati City</td>\n",
       "      <td>Century City Mall, Poblacion, Makati City, Mak...</td>\n",
       "      <td>121.027535</td>\n",
       "      <td>14.565443</td>\n",
       "      <td>French, Japanese, Desserts</td>\n",
       "      <td>...</td>\n",
       "      <td>Botswana Pula(P)</td>\n",
       "      <td>Yes</td>\n",
       "      <td>No</td>\n",
       "      <td>No</td>\n",
       "      <td>No</td>\n",
       "      <td>3</td>\n",
       "      <td>4.8</td>\n",
       "      <td>Dark Green</td>\n",
       "      <td>Excellent</td>\n",
       "      <td>314</td>\n",
       "    </tr>\n",
       "    <tr>\n",
       "      <th>1</th>\n",
       "      <td>6304287</td>\n",
       "      <td>Izakaya Kikufuji</td>\n",
       "      <td>162</td>\n",
       "      <td>Makati City</td>\n",
       "      <td>Little Tokyo, 2277 Chino Roces Avenue, Legaspi...</td>\n",
       "      <td>Little Tokyo, Legaspi Village, Makati City</td>\n",
       "      <td>Little Tokyo, Legaspi Village, Makati City, Ma...</td>\n",
       "      <td>121.014101</td>\n",
       "      <td>14.553708</td>\n",
       "      <td>Japanese</td>\n",
       "      <td>...</td>\n",
       "      <td>Botswana Pula(P)</td>\n",
       "      <td>Yes</td>\n",
       "      <td>No</td>\n",
       "      <td>No</td>\n",
       "      <td>No</td>\n",
       "      <td>3</td>\n",
       "      <td>4.5</td>\n",
       "      <td>Dark Green</td>\n",
       "      <td>Excellent</td>\n",
       "      <td>591</td>\n",
       "    </tr>\n",
       "    <tr>\n",
       "      <th>2</th>\n",
       "      <td>6300002</td>\n",
       "      <td>Heat - Edsa Shangri-La</td>\n",
       "      <td>162</td>\n",
       "      <td>Mandaluyong City</td>\n",
       "      <td>Edsa Shangri-La, 1 Garden Way, Ortigas, Mandal...</td>\n",
       "      <td>Edsa Shangri-La, Ortigas, Mandaluyong City</td>\n",
       "      <td>Edsa Shangri-La, Ortigas, Mandaluyong City, Ma...</td>\n",
       "      <td>121.056831</td>\n",
       "      <td>14.581404</td>\n",
       "      <td>Seafood, Asian, Filipino, Indian</td>\n",
       "      <td>...</td>\n",
       "      <td>Botswana Pula(P)</td>\n",
       "      <td>Yes</td>\n",
       "      <td>No</td>\n",
       "      <td>No</td>\n",
       "      <td>No</td>\n",
       "      <td>4</td>\n",
       "      <td>4.4</td>\n",
       "      <td>Green</td>\n",
       "      <td>Very Good</td>\n",
       "      <td>270</td>\n",
       "    </tr>\n",
       "  </tbody>\n",
       "</table>\n",
       "<p>3 rows × 21 columns</p>\n",
       "</div>"
      ],
      "text/plain": [
       "   Restaurant ID         Restaurant Name  Country Code              City  \\\n",
       "0        6317637        Le Petit Souffle           162       Makati City   \n",
       "1        6304287        Izakaya Kikufuji           162       Makati City   \n",
       "2        6300002  Heat - Edsa Shangri-La           162  Mandaluyong City   \n",
       "\n",
       "                                             Address  \\\n",
       "0  Third Floor, Century City Mall, Kalayaan Avenu...   \n",
       "1  Little Tokyo, 2277 Chino Roces Avenue, Legaspi...   \n",
       "2  Edsa Shangri-La, 1 Garden Way, Ortigas, Mandal...   \n",
       "\n",
       "                                     Locality  \\\n",
       "0   Century City Mall, Poblacion, Makati City   \n",
       "1  Little Tokyo, Legaspi Village, Makati City   \n",
       "2  Edsa Shangri-La, Ortigas, Mandaluyong City   \n",
       "\n",
       "                                    Locality Verbose   Longitude   Latitude  \\\n",
       "0  Century City Mall, Poblacion, Makati City, Mak...  121.027535  14.565443   \n",
       "1  Little Tokyo, Legaspi Village, Makati City, Ma...  121.014101  14.553708   \n",
       "2  Edsa Shangri-La, Ortigas, Mandaluyong City, Ma...  121.056831  14.581404   \n",
       "\n",
       "                           Cuisines  ...          Currency Has Table booking  \\\n",
       "0        French, Japanese, Desserts  ...  Botswana Pula(P)               Yes   \n",
       "1                          Japanese  ...  Botswana Pula(P)               Yes   \n",
       "2  Seafood, Asian, Filipino, Indian  ...  Botswana Pula(P)               Yes   \n",
       "\n",
       "  Has Online delivery Is delivering now Switch to order menu Price range  \\\n",
       "0                  No                No                   No           3   \n",
       "1                  No                No                   No           3   \n",
       "2                  No                No                   No           4   \n",
       "\n",
       "   Aggregate rating  Rating color Rating text Votes  \n",
       "0               4.8    Dark Green   Excellent   314  \n",
       "1               4.5    Dark Green   Excellent   591  \n",
       "2               4.4         Green   Very Good   270  \n",
       "\n",
       "[3 rows x 21 columns]"
      ]
     },
     "execution_count": 8,
     "metadata": {},
     "output_type": "execute_result"
    }
   ],
   "source": [
    "df.head(3)"
   ]
  },
  {
   "cell_type": "code",
   "execution_count": 9,
   "id": "d06501da",
   "metadata": {},
   "outputs": [
    {
     "data": {
      "text/html": [
       "<div>\n",
       "<style scoped>\n",
       "    .dataframe tbody tr th:only-of-type {\n",
       "        vertical-align: middle;\n",
       "    }\n",
       "\n",
       "    .dataframe tbody tr th {\n",
       "        vertical-align: top;\n",
       "    }\n",
       "\n",
       "    .dataframe thead th {\n",
       "        text-align: right;\n",
       "    }\n",
       "</style>\n",
       "<table border=\"1\" class=\"dataframe\">\n",
       "  <thead>\n",
       "    <tr style=\"text-align: right;\">\n",
       "      <th></th>\n",
       "      <th>Restaurant ID</th>\n",
       "      <th>Restaurant Name</th>\n",
       "      <th>Country Code</th>\n",
       "      <th>City</th>\n",
       "      <th>Address</th>\n",
       "      <th>Locality</th>\n",
       "      <th>Locality Verbose</th>\n",
       "      <th>Longitude</th>\n",
       "      <th>Latitude</th>\n",
       "      <th>Cuisines</th>\n",
       "      <th>...</th>\n",
       "      <th>Currency</th>\n",
       "      <th>Has Table booking</th>\n",
       "      <th>Has Online delivery</th>\n",
       "      <th>Is delivering now</th>\n",
       "      <th>Switch to order menu</th>\n",
       "      <th>Price range</th>\n",
       "      <th>Aggregate rating</th>\n",
       "      <th>Rating color</th>\n",
       "      <th>Rating text</th>\n",
       "      <th>Votes</th>\n",
       "    </tr>\n",
       "  </thead>\n",
       "  <tbody>\n",
       "    <tr>\n",
       "      <th>9548</th>\n",
       "      <td>5915807</td>\n",
       "      <td>Huqqa</td>\n",
       "      <td>208</td>\n",
       "      <td>��stanbul</td>\n",
       "      <td>Kuru�_e��me Mahallesi, Muallim Naci Caddesi, N...</td>\n",
       "      <td>Kuru�_e��me</td>\n",
       "      <td>Kuru�_e��me, ��stanbul</td>\n",
       "      <td>29.034640</td>\n",
       "      <td>41.055817</td>\n",
       "      <td>Italian, World Cuisine</td>\n",
       "      <td>...</td>\n",
       "      <td>Turkish Lira(TL)</td>\n",
       "      <td>No</td>\n",
       "      <td>No</td>\n",
       "      <td>No</td>\n",
       "      <td>No</td>\n",
       "      <td>4</td>\n",
       "      <td>3.7</td>\n",
       "      <td>Yellow</td>\n",
       "      <td>Good</td>\n",
       "      <td>661</td>\n",
       "    </tr>\n",
       "    <tr>\n",
       "      <th>9549</th>\n",
       "      <td>5916112</td>\n",
       "      <td>A���k Kahve</td>\n",
       "      <td>208</td>\n",
       "      <td>��stanbul</td>\n",
       "      <td>Kuru�_e��me Mahallesi, Muallim Naci Caddesi, N...</td>\n",
       "      <td>Kuru�_e��me</td>\n",
       "      <td>Kuru�_e��me, ��stanbul</td>\n",
       "      <td>29.036019</td>\n",
       "      <td>41.057979</td>\n",
       "      <td>Restaurant Cafe</td>\n",
       "      <td>...</td>\n",
       "      <td>Turkish Lira(TL)</td>\n",
       "      <td>No</td>\n",
       "      <td>No</td>\n",
       "      <td>No</td>\n",
       "      <td>No</td>\n",
       "      <td>4</td>\n",
       "      <td>4.0</td>\n",
       "      <td>Green</td>\n",
       "      <td>Very Good</td>\n",
       "      <td>901</td>\n",
       "    </tr>\n",
       "    <tr>\n",
       "      <th>9550</th>\n",
       "      <td>5927402</td>\n",
       "      <td>Walter's Coffee Roastery</td>\n",
       "      <td>208</td>\n",
       "      <td>��stanbul</td>\n",
       "      <td>Cafea��a Mahallesi, Bademalt۱ Sokak, No 21/B, ...</td>\n",
       "      <td>Moda</td>\n",
       "      <td>Moda, ��stanbul</td>\n",
       "      <td>29.026016</td>\n",
       "      <td>40.984776</td>\n",
       "      <td>Cafe</td>\n",
       "      <td>...</td>\n",
       "      <td>Turkish Lira(TL)</td>\n",
       "      <td>No</td>\n",
       "      <td>No</td>\n",
       "      <td>No</td>\n",
       "      <td>No</td>\n",
       "      <td>2</td>\n",
       "      <td>4.0</td>\n",
       "      <td>Green</td>\n",
       "      <td>Very Good</td>\n",
       "      <td>591</td>\n",
       "    </tr>\n",
       "  </tbody>\n",
       "</table>\n",
       "<p>3 rows × 21 columns</p>\n",
       "</div>"
      ],
      "text/plain": [
       "      Restaurant ID           Restaurant Name  Country Code       City  \\\n",
       "9548        5915807                     Huqqa           208  ��stanbul   \n",
       "9549        5916112               A���k Kahve           208  ��stanbul   \n",
       "9550        5927402  Walter's Coffee Roastery           208  ��stanbul   \n",
       "\n",
       "                                                Address     Locality  \\\n",
       "9548  Kuru�_e��me Mahallesi, Muallim Naci Caddesi, N...  Kuru�_e��me   \n",
       "9549  Kuru�_e��me Mahallesi, Muallim Naci Caddesi, N...  Kuru�_e��me   \n",
       "9550  Cafea��a Mahallesi, Bademalt۱ Sokak, No 21/B, ...         Moda   \n",
       "\n",
       "            Locality Verbose  Longitude   Latitude                Cuisines  \\\n",
       "9548  Kuru�_e��me, ��stanbul  29.034640  41.055817  Italian, World Cuisine   \n",
       "9549  Kuru�_e��me, ��stanbul  29.036019  41.057979         Restaurant Cafe   \n",
       "9550         Moda, ��stanbul  29.026016  40.984776                    Cafe   \n",
       "\n",
       "      ...          Currency Has Table booking Has Online delivery  \\\n",
       "9548  ...  Turkish Lira(TL)                No                  No   \n",
       "9549  ...  Turkish Lira(TL)                No                  No   \n",
       "9550  ...  Turkish Lira(TL)                No                  No   \n",
       "\n",
       "     Is delivering now Switch to order menu Price range  Aggregate rating  \\\n",
       "9548                No                   No           4               3.7   \n",
       "9549                No                   No           4               4.0   \n",
       "9550                No                   No           2               4.0   \n",
       "\n",
       "      Rating color Rating text Votes  \n",
       "9548        Yellow        Good   661  \n",
       "9549         Green   Very Good   901  \n",
       "9550         Green   Very Good   591  \n",
       "\n",
       "[3 rows x 21 columns]"
      ]
     },
     "execution_count": 9,
     "metadata": {},
     "output_type": "execute_result"
    }
   ],
   "source": [
    "df.tail(3)"
   ]
  },
  {
   "cell_type": "code",
   "execution_count": 10,
   "id": "d377e017",
   "metadata": {},
   "outputs": [
    {
     "data": {
      "text/plain": [
       "(9551, 21)"
      ]
     },
     "execution_count": 10,
     "metadata": {},
     "output_type": "execute_result"
    }
   ],
   "source": [
    "df.shape"
   ]
  },
  {
   "cell_type": "code",
   "execution_count": 11,
   "id": "18435529",
   "metadata": {},
   "outputs": [
    {
     "data": {
      "text/plain": [
       "RangeIndex(start=0, stop=9551, step=1)"
      ]
     },
     "execution_count": 11,
     "metadata": {},
     "output_type": "execute_result"
    }
   ],
   "source": [
    "df.index"
   ]
  },
  {
   "cell_type": "code",
   "execution_count": 12,
   "id": "92319f2f",
   "metadata": {},
   "outputs": [
    {
     "name": "stdout",
     "output_type": "stream",
     "text": [
      "<class 'pandas.core.frame.DataFrame'>\n",
      "RangeIndex: 9551 entries, 0 to 9550\n",
      "Data columns (total 21 columns):\n",
      " #   Column                Non-Null Count  Dtype  \n",
      "---  ------                --------------  -----  \n",
      " 0   Restaurant ID         9551 non-null   int64  \n",
      " 1   Restaurant Name       9551 non-null   object \n",
      " 2   Country Code          9551 non-null   int64  \n",
      " 3   City                  9551 non-null   object \n",
      " 4   Address               9551 non-null   object \n",
      " 5   Locality              9551 non-null   object \n",
      " 6   Locality Verbose      9551 non-null   object \n",
      " 7   Longitude             9551 non-null   float64\n",
      " 8   Latitude              9551 non-null   float64\n",
      " 9   Cuisines              9542 non-null   object \n",
      " 10  Average Cost for two  9551 non-null   int64  \n",
      " 11  Currency              9551 non-null   object \n",
      " 12  Has Table booking     9551 non-null   object \n",
      " 13  Has Online delivery   9551 non-null   object \n",
      " 14  Is delivering now     9551 non-null   object \n",
      " 15  Switch to order menu  9551 non-null   object \n",
      " 16  Price range           9551 non-null   int64  \n",
      " 17  Aggregate rating      9551 non-null   float64\n",
      " 18  Rating color          9551 non-null   object \n",
      " 19  Rating text           9551 non-null   object \n",
      " 20  Votes                 9551 non-null   int64  \n",
      "dtypes: float64(3), int64(5), object(13)\n",
      "memory usage: 1.5+ MB\n"
     ]
    }
   ],
   "source": [
    "df.info()"
   ]
  },
  {
   "cell_type": "code",
   "execution_count": 13,
   "id": "e903c6fc",
   "metadata": {},
   "outputs": [
    {
     "data": {
      "text/html": [
       "<div>\n",
       "<style scoped>\n",
       "    .dataframe tbody tr th:only-of-type {\n",
       "        vertical-align: middle;\n",
       "    }\n",
       "\n",
       "    .dataframe tbody tr th {\n",
       "        vertical-align: top;\n",
       "    }\n",
       "\n",
       "    .dataframe thead th {\n",
       "        text-align: right;\n",
       "    }\n",
       "</style>\n",
       "<table border=\"1\" class=\"dataframe\">\n",
       "  <thead>\n",
       "    <tr style=\"text-align: right;\">\n",
       "      <th></th>\n",
       "      <th>count</th>\n",
       "      <th>mean</th>\n",
       "      <th>std</th>\n",
       "      <th>min</th>\n",
       "      <th>25%</th>\n",
       "      <th>50%</th>\n",
       "      <th>75%</th>\n",
       "      <th>max</th>\n",
       "    </tr>\n",
       "  </thead>\n",
       "  <tbody>\n",
       "    <tr>\n",
       "      <th>Restaurant ID</th>\n",
       "      <td>9551.0</td>\n",
       "      <td>9.051128e+06</td>\n",
       "      <td>8.791521e+06</td>\n",
       "      <td>53.000000</td>\n",
       "      <td>301962.500000</td>\n",
       "      <td>6.004089e+06</td>\n",
       "      <td>1.835229e+07</td>\n",
       "      <td>1.850065e+07</td>\n",
       "    </tr>\n",
       "    <tr>\n",
       "      <th>Country Code</th>\n",
       "      <td>9551.0</td>\n",
       "      <td>1.836562e+01</td>\n",
       "      <td>5.675055e+01</td>\n",
       "      <td>1.000000</td>\n",
       "      <td>1.000000</td>\n",
       "      <td>1.000000e+00</td>\n",
       "      <td>1.000000e+00</td>\n",
       "      <td>2.160000e+02</td>\n",
       "    </tr>\n",
       "    <tr>\n",
       "      <th>Longitude</th>\n",
       "      <td>9551.0</td>\n",
       "      <td>6.412657e+01</td>\n",
       "      <td>4.146706e+01</td>\n",
       "      <td>-157.948486</td>\n",
       "      <td>77.081343</td>\n",
       "      <td>7.719196e+01</td>\n",
       "      <td>7.728201e+01</td>\n",
       "      <td>1.748321e+02</td>\n",
       "    </tr>\n",
       "    <tr>\n",
       "      <th>Latitude</th>\n",
       "      <td>9551.0</td>\n",
       "      <td>2.585438e+01</td>\n",
       "      <td>1.100794e+01</td>\n",
       "      <td>-41.330428</td>\n",
       "      <td>28.478713</td>\n",
       "      <td>2.857047e+01</td>\n",
       "      <td>2.864276e+01</td>\n",
       "      <td>5.597698e+01</td>\n",
       "    </tr>\n",
       "    <tr>\n",
       "      <th>Average Cost for two</th>\n",
       "      <td>9551.0</td>\n",
       "      <td>1.199211e+03</td>\n",
       "      <td>1.612118e+04</td>\n",
       "      <td>0.000000</td>\n",
       "      <td>250.000000</td>\n",
       "      <td>4.000000e+02</td>\n",
       "      <td>7.000000e+02</td>\n",
       "      <td>8.000000e+05</td>\n",
       "    </tr>\n",
       "    <tr>\n",
       "      <th>Price range</th>\n",
       "      <td>9551.0</td>\n",
       "      <td>1.804837e+00</td>\n",
       "      <td>9.056088e-01</td>\n",
       "      <td>1.000000</td>\n",
       "      <td>1.000000</td>\n",
       "      <td>2.000000e+00</td>\n",
       "      <td>2.000000e+00</td>\n",
       "      <td>4.000000e+00</td>\n",
       "    </tr>\n",
       "    <tr>\n",
       "      <th>Aggregate rating</th>\n",
       "      <td>9551.0</td>\n",
       "      <td>2.666370e+00</td>\n",
       "      <td>1.516378e+00</td>\n",
       "      <td>0.000000</td>\n",
       "      <td>2.500000</td>\n",
       "      <td>3.200000e+00</td>\n",
       "      <td>3.700000e+00</td>\n",
       "      <td>4.900000e+00</td>\n",
       "    </tr>\n",
       "    <tr>\n",
       "      <th>Votes</th>\n",
       "      <td>9551.0</td>\n",
       "      <td>1.569097e+02</td>\n",
       "      <td>4.301691e+02</td>\n",
       "      <td>0.000000</td>\n",
       "      <td>5.000000</td>\n",
       "      <td>3.100000e+01</td>\n",
       "      <td>1.310000e+02</td>\n",
       "      <td>1.093400e+04</td>\n",
       "    </tr>\n",
       "  </tbody>\n",
       "</table>\n",
       "</div>"
      ],
      "text/plain": [
       "                       count          mean           std         min  \\\n",
       "Restaurant ID         9551.0  9.051128e+06  8.791521e+06   53.000000   \n",
       "Country Code          9551.0  1.836562e+01  5.675055e+01    1.000000   \n",
       "Longitude             9551.0  6.412657e+01  4.146706e+01 -157.948486   \n",
       "Latitude              9551.0  2.585438e+01  1.100794e+01  -41.330428   \n",
       "Average Cost for two  9551.0  1.199211e+03  1.612118e+04    0.000000   \n",
       "Price range           9551.0  1.804837e+00  9.056088e-01    1.000000   \n",
       "Aggregate rating      9551.0  2.666370e+00  1.516378e+00    0.000000   \n",
       "Votes                 9551.0  1.569097e+02  4.301691e+02    0.000000   \n",
       "\n",
       "                                25%           50%           75%           max  \n",
       "Restaurant ID         301962.500000  6.004089e+06  1.835229e+07  1.850065e+07  \n",
       "Country Code               1.000000  1.000000e+00  1.000000e+00  2.160000e+02  \n",
       "Longitude                 77.081343  7.719196e+01  7.728201e+01  1.748321e+02  \n",
       "Latitude                  28.478713  2.857047e+01  2.864276e+01  5.597698e+01  \n",
       "Average Cost for two     250.000000  4.000000e+02  7.000000e+02  8.000000e+05  \n",
       "Price range                1.000000  2.000000e+00  2.000000e+00  4.000000e+00  \n",
       "Aggregate rating           2.500000  3.200000e+00  3.700000e+00  4.900000e+00  \n",
       "Votes                      5.000000  3.100000e+01  1.310000e+02  1.093400e+04  "
      ]
     },
     "execution_count": 13,
     "metadata": {},
     "output_type": "execute_result"
    }
   ],
   "source": [
    "df.describe().T"
   ]
  },
  {
   "cell_type": "code",
   "execution_count": 14,
   "id": "11dad6a2",
   "metadata": {},
   "outputs": [
    {
     "data": {
      "text/plain": [
       "Restaurant ID           9551\n",
       "Restaurant Name         9551\n",
       "Country Code            9551\n",
       "City                    9551\n",
       "Address                 9551\n",
       "Locality                9551\n",
       "Locality Verbose        9551\n",
       "Longitude               9551\n",
       "Latitude                9551\n",
       "Cuisines                9542\n",
       "Average Cost for two    9551\n",
       "Currency                9551\n",
       "Has Table booking       9551\n",
       "Has Online delivery     9551\n",
       "Is delivering now       9551\n",
       "Switch to order menu    9551\n",
       "Price range             9551\n",
       "Aggregate rating        9551\n",
       "Rating color            9551\n",
       "Rating text             9551\n",
       "Votes                   9551\n",
       "dtype: int64"
      ]
     },
     "execution_count": 14,
     "metadata": {},
     "output_type": "execute_result"
    }
   ],
   "source": [
    "df.count()"
   ]
  },
  {
   "cell_type": "code",
   "execution_count": 15,
   "id": "12039d44",
   "metadata": {},
   "outputs": [
    {
     "data": {
      "text/plain": [
       "0"
      ]
     },
     "execution_count": 15,
     "metadata": {},
     "output_type": "execute_result"
    }
   ],
   "source": [
    "df.duplicated().sum()"
   ]
  },
  {
   "cell_type": "code",
   "execution_count": 16,
   "id": "71bdb228",
   "metadata": {},
   "outputs": [
    {
     "data": {
      "text/plain": [
       "Restaurant ID           0\n",
       "Restaurant Name         0\n",
       "Country Code            0\n",
       "City                    0\n",
       "Address                 0\n",
       "Locality                0\n",
       "Locality Verbose        0\n",
       "Longitude               0\n",
       "Latitude                0\n",
       "Cuisines                9\n",
       "Average Cost for two    0\n",
       "Currency                0\n",
       "Has Table booking       0\n",
       "Has Online delivery     0\n",
       "Is delivering now       0\n",
       "Switch to order menu    0\n",
       "Price range             0\n",
       "Aggregate rating        0\n",
       "Rating color            0\n",
       "Rating text             0\n",
       "Votes                   0\n",
       "dtype: int64"
      ]
     },
     "execution_count": 16,
     "metadata": {},
     "output_type": "execute_result"
    }
   ],
   "source": [
    "df.isnull().sum()"
   ]
  },
  {
   "cell_type": "markdown",
   "id": "8fa630a7",
   "metadata": {},
   "source": [
    "# Data Cleaning and manipulation"
   ]
  },
  {
   "cell_type": "code",
   "execution_count": 17,
   "id": "5564fbcf",
   "metadata": {},
   "outputs": [
    {
     "data": {
      "text/plain": [
       "(9542, 21)"
      ]
     },
     "execution_count": 17,
     "metadata": {},
     "output_type": "execute_result"
    }
   ],
   "source": [
    "# treating nul-values\n",
    "df.dropna(inplace=True)\n",
    "df.shape"
   ]
  },
  {
   "cell_type": "code",
   "execution_count": 18,
   "id": "b81cf3cb",
   "metadata": {},
   "outputs": [
    {
     "data": {
      "text/plain": [
       "Index(['Restaurant ID', 'Restaurant Name', 'Country Code', 'City', 'Longitude',\n",
       "       'Latitude', 'Cuisines', 'Average Cost for two', 'Currency',\n",
       "       'Has Table booking', 'Has Online delivery', 'Is delivering now',\n",
       "       'Price range', 'Aggregate rating', 'Rating color', 'Rating text',\n",
       "       'Votes'],\n",
       "      dtype='object')"
      ]
     },
     "execution_count": 18,
     "metadata": {},
     "output_type": "execute_result"
    }
   ],
   "source": [
    "# droping columns which are not relevent to the analysis\n",
    "df.drop(columns=['Address', 'Locality', 'Locality Verbose', 'Switch to order menu'], inplace=True)\n",
    "df.columns"
   ]
  },
  {
   "cell_type": "code",
   "execution_count": 19,
   "id": "cd1b08b1",
   "metadata": {},
   "outputs": [
    {
     "data": {
      "text/plain": [
       "array(['Le Petit Souffle', 'Izakaya Kikufuji', 'Heat - Edsa Shangri-La',\n",
       "       ..., 'Huqqa', 'A���k Kahve', \"Walter's Coffee Roastery\"],\n",
       "      dtype=object)"
      ]
     },
     "execution_count": 19,
     "metadata": {},
     "output_type": "execute_result"
    }
   ],
   "source": [
    "# Exploring the categorical columns of the dataset, to prepare the dataset for EDA.\n",
    "df['Restaurant Name'].unique()"
   ]
  },
  {
   "cell_type": "code",
   "execution_count": 20,
   "id": "35097013",
   "metadata": {},
   "outputs": [
    {
     "data": {
      "text/plain": [
       "array(['Makati City', 'Mandaluyong City', 'Pasay City', 'Pasig City',\n",
       "       'Quezon City', 'San Juan City', 'Santa Rosa', 'Tagaytay City',\n",
       "       'Taguig City', 'Bras�_lia', 'Rio de Janeiro', 'S��o Paulo',\n",
       "       'Albany', 'Armidale', 'Athens', 'Augusta', 'Balingup',\n",
       "       'Beechworth', 'Boise', 'Cedar Rapids/Iowa City', 'Chatham-Kent',\n",
       "       'Clatskanie', 'Cochrane', 'Columbus', 'Consort', 'Dalton',\n",
       "       'Davenport', 'Des Moines', 'Dicky Beach', 'Dubuque',\n",
       "       'East Ballina', 'Fernley', 'Flaxton', 'Forrest', 'Gainesville',\n",
       "       'Hepburn Springs', 'Huskisson', 'Inverloch', 'Lakes Entrance',\n",
       "       'Lakeview', 'Lincoln', 'Lorn', 'Macedon', 'Macon', 'Mayfield',\n",
       "       'Mc Millan', 'Middleton Beach', 'Monroe', 'Montville',\n",
       "       'Ojo Caliente', 'Orlando', 'Palm Cove', 'Paynesville', 'Penola',\n",
       "       'Pensacola', 'Phillip Island', 'Pocatello', 'Potrero', 'Princeton',\n",
       "       'Rest of Hawaii', 'Savannah', 'Singapore', 'Sioux City',\n",
       "       'Tampa Bay', 'Tanunda', 'Trentham East', 'Valdosta', 'Vernonia',\n",
       "       'Victor Harbor', 'Vineland Station', 'Waterloo', 'Weirton',\n",
       "       'Winchester Bay', 'Yorkton', 'Abu Dhabi', 'Dubai', 'Sharjah',\n",
       "       'Agra', 'Ahmedabad', 'Allahabad', 'Amritsar', 'Aurangabad',\n",
       "       'Bangalore', 'Bhopal', 'Bhubaneshwar', 'Chandigarh', 'Chennai',\n",
       "       'Coimbatore', 'Dehradun', 'Faridabad', 'Ghaziabad', 'Goa',\n",
       "       'Gurgaon', 'Guwahati', 'Hyderabad', 'Indore', 'Jaipur', 'Kanpur',\n",
       "       'Kochi', 'Kolkata', 'Lucknow', 'Ludhiana', 'Mangalore', 'Mohali',\n",
       "       'Mumbai', 'Mysore', 'Nagpur', 'Nashik', 'New Delhi', 'Noida',\n",
       "       'Panchkula', 'Patna', 'Puducherry', 'Pune', 'Ranchi',\n",
       "       'Secunderabad', 'Surat', 'Vadodara', 'Varanasi', 'Vizag',\n",
       "       'Bandung', 'Bogor', 'Jakarta', 'Tangerang', 'Auckland',\n",
       "       'Wellington City', 'Birmingham', 'Edinburgh', 'London',\n",
       "       'Manchester', 'Doha', 'Cape Town', 'Inner City', 'Johannesburg',\n",
       "       'Pretoria', 'Randburg', 'Sandton', 'Colombo', 'Ankara',\n",
       "       '��stanbul'], dtype=object)"
      ]
     },
     "execution_count": 20,
     "metadata": {},
     "output_type": "execute_result"
    }
   ],
   "source": [
    "df['City'].unique()"
   ]
  },
  {
   "cell_type": "code",
   "execution_count": 21,
   "id": "36fd0e10",
   "metadata": {},
   "outputs": [
    {
     "data": {
      "text/plain": [
       "array(['Makati City', 'Mandaluyong City', 'Pasay City', 'Pasig City',\n",
       "       'Quezon City', 'San Juan City', 'Santa Rosa', 'Tagaytay City',\n",
       "       'Taguig City', 'Brazilia', 'Rio de Janeiro', 'Sao Paulo', 'Albany',\n",
       "       'Armidale', 'Athens', 'Augusta', 'Balingup', 'Beechworth', 'Boise',\n",
       "       'Cedar Rapids/Iowa City', 'Chatham-Kent', 'Clatskanie', 'Cochrane',\n",
       "       'Columbus', 'Consort', 'Dalton', 'Davenport', 'Des Moines',\n",
       "       'Dicky Beach', 'Dubuque', 'East Ballina', 'Fernley', 'Flaxton',\n",
       "       'Forrest', 'Gainesville', 'Hepburn Springs', 'Huskisson',\n",
       "       'Inverloch', 'Lakes Entrance', 'Lakeview', 'Lincoln', 'Lorn',\n",
       "       'Macedon', 'Macon', 'Mayfield', 'Mc Millan', 'Middleton Beach',\n",
       "       'Monroe', 'Montville', 'Ojo Caliente', 'Orlando', 'Palm Cove',\n",
       "       'Paynesville', 'Penola', 'Pensacola', 'Phillip Island',\n",
       "       'Pocatello', 'Potrero', 'Princeton', 'Rest of Hawaii', 'Savannah',\n",
       "       'Singapore', 'Sioux City', 'Tampa Bay', 'Tanunda', 'Trentham East',\n",
       "       'Valdosta', 'Vernonia', 'Victor Harbor', 'Vineland Station',\n",
       "       'Waterloo', 'Weirton', 'Winchester Bay', 'Yorkton', 'Abu Dhabi',\n",
       "       'Dubai', 'Sharjah', 'Agra', 'Ahmedabad', 'Allahabad', 'Amritsar',\n",
       "       'Aurangabad', 'Bangalore', 'Bhopal', 'Bhubaneshwar', 'Chandigarh',\n",
       "       'Chennai', 'Coimbatore', 'Dehradun', 'Faridabad', 'Ghaziabad',\n",
       "       'Goa', 'Gurgaon', 'Guwahati', 'Hyderabad', 'Indore', 'Jaipur',\n",
       "       'Kanpur', 'Kochi', 'Kolkata', 'Lucknow', 'Ludhiana', 'Mangalore',\n",
       "       'Mohali', 'Mumbai', 'Mysore', 'Nagpur', 'Nashik', 'New Delhi',\n",
       "       'Noida', 'Panchkula', 'Patna', 'Puducherry', 'Pune', 'Ranchi',\n",
       "       'Secunderabad', 'Surat', 'Vadodara', 'Varanasi', 'Vizag',\n",
       "       'Bandung', 'Bogor', 'Jakarta', 'Tangerang', 'Auckland',\n",
       "       'Wellington City', 'Birmingham', 'Edinburgh', 'London',\n",
       "       'Manchester', 'Doha', 'Cape Town', 'Inner City', 'Johannesburg',\n",
       "       'Pretoria', 'Randburg', 'Sandton', 'Colombo', 'Ankara', 'Istanbul'],\n",
       "      dtype=object)"
      ]
     },
     "execution_count": 21,
     "metadata": {},
     "output_type": "execute_result"
    }
   ],
   "source": [
    "df['City'] = df['City'].replace({'Bras�_lia': 'Brazilia', 'S��o Paulo': 'Sao Paulo', '��stanbul': 'Istanbul'})\n",
    "df['City'].unique()"
   ]
  },
  {
   "cell_type": "code",
   "execution_count": 22,
   "id": "2305460e",
   "metadata": {},
   "outputs": [
    {
     "data": {
      "text/plain": [
       "array(['Botswana Pula(P)', 'Brazilian Real(R$)', 'Dollar($)',\n",
       "       'Emirati Diram(AED)', 'Indian Rupees(Rs.)',\n",
       "       'Indonesian Rupiah(IDR)', 'NewZealand($)', 'Pounds(��)',\n",
       "       'Qatari Rial(QR)', 'Rand(R)', 'Sri Lankan Rupee(LKR)',\n",
       "       'Turkish Lira(TL)'], dtype=object)"
      ]
     },
     "execution_count": 22,
     "metadata": {},
     "output_type": "execute_result"
    }
   ],
   "source": [
    "df['Currency'].unique()"
   ]
  },
  {
   "cell_type": "code",
   "execution_count": 23,
   "id": "6de4beca",
   "metadata": {},
   "outputs": [
    {
     "data": {
      "text/plain": [
       "array(['Botswana Pula(P)', 'Brazilian Real(BRL)', 'Dollar(USD)',\n",
       "       'Emirati Diram(AED)', 'Indian Rupees(Rs.)',\n",
       "       'Indonesian Rupiah(IDR)', 'New Zealand(NZD)', 'Pounds(GBP)',\n",
       "       'Qatari Rial(QR)', 'Rand(R)', 'Sri Lankan Rupee(LKR)',\n",
       "       'Turkish Lira(TL)'], dtype=object)"
      ]
     },
     "execution_count": 23,
     "metadata": {},
     "output_type": "execute_result"
    }
   ],
   "source": [
    "df['Currency'] = df['Currency'].replace({'Brazilian Real(R$)':'Brazilian Real(BRL)', 'Dollar($)':'Dollar(USD)', 'Pounds(��)':'Pounds(GBP)', 'NewZealand($)':'New Zealand(NZD)'})\n",
    "df['Currency'].unique()"
   ]
  },
  {
   "cell_type": "code",
   "execution_count": 24,
   "id": "796d050d",
   "metadata": {},
   "outputs": [
    {
     "data": {
      "text/plain": [
       "array(['Yes', 'No'], dtype=object)"
      ]
     },
     "execution_count": 24,
     "metadata": {},
     "output_type": "execute_result"
    }
   ],
   "source": [
    "df['Has Table booking'].unique()"
   ]
  },
  {
   "cell_type": "code",
   "execution_count": 25,
   "id": "f711ed6c",
   "metadata": {},
   "outputs": [
    {
     "data": {
      "text/plain": [
       "array(['No', 'Yes'], dtype=object)"
      ]
     },
     "execution_count": 25,
     "metadata": {},
     "output_type": "execute_result"
    }
   ],
   "source": [
    "df['Has Online delivery'].unique()"
   ]
  },
  {
   "cell_type": "code",
   "execution_count": 26,
   "id": "b3402489",
   "metadata": {},
   "outputs": [
    {
     "data": {
      "text/plain": [
       "array(['No', 'Yes'], dtype=object)"
      ]
     },
     "execution_count": 26,
     "metadata": {},
     "output_type": "execute_result"
    }
   ],
   "source": [
    "df['Is delivering now'].unique()"
   ]
  },
  {
   "cell_type": "code",
   "execution_count": 27,
   "id": "18b8d936",
   "metadata": {},
   "outputs": [
    {
     "data": {
      "text/plain": [
       "array([3, 4, 2, 1], dtype=int64)"
      ]
     },
     "execution_count": 27,
     "metadata": {},
     "output_type": "execute_result"
    }
   ],
   "source": [
    "df['Price range'].unique()"
   ]
  },
  {
   "cell_type": "code",
   "execution_count": 28,
   "id": "892cc3ad",
   "metadata": {},
   "outputs": [
    {
     "data": {
      "text/plain": [
       "array([4.8, 4.5, 4.4, 4.9, 4. , 4.2, 4.3, 3.6, 4.7, 3. , 3.8, 3.7, 3.2,\n",
       "       3.1, 0. , 4.1, 3.3, 4.6, 3.9, 3.4, 3.5, 2.2, 2.9, 2.4, 2.6, 2.8,\n",
       "       2.1, 2.7, 2.5, 1.8, 2. , 2.3, 1.9])"
      ]
     },
     "execution_count": 28,
     "metadata": {},
     "output_type": "execute_result"
    }
   ],
   "source": [
    "df['Aggregate rating'].unique()"
   ]
  },
  {
   "cell_type": "code",
   "execution_count": 29,
   "id": "fb408980",
   "metadata": {},
   "outputs": [
    {
     "data": {
      "text/plain": [
       "array(['Dark Green', 'Green', 'Yellow', 'Orange', 'White', 'Red'],\n",
       "      dtype=object)"
      ]
     },
     "execution_count": 29,
     "metadata": {},
     "output_type": "execute_result"
    }
   ],
   "source": [
    "df['Rating color'].unique()"
   ]
  },
  {
   "cell_type": "code",
   "execution_count": 30,
   "id": "378a7e78",
   "metadata": {},
   "outputs": [
    {
     "data": {
      "text/plain": [
       "array(['Excellent', 'Very Good', 'Good', 'Average', 'Not rated', 'Poor'],\n",
       "      dtype=object)"
      ]
     },
     "execution_count": 30,
     "metadata": {},
     "output_type": "execute_result"
    }
   ],
   "source": [
    "df['Rating text'].unique()"
   ]
  },
  {
   "cell_type": "markdown",
   "id": "e15bfb82",
   "metadata": {},
   "source": [
    "After exploring all the categorical columns, and fixing the rows in order to have a clean dataset for Exploratory Data Analysis (EDA) in the next stage of the project."
   ]
  },
  {
   "cell_type": "markdown",
   "id": "b5361746",
   "metadata": {},
   "source": [
    "# Level 1 tasks"
   ]
  },
  {
   "cell_type": "markdown",
   "id": "b80f4fe4",
   "metadata": {},
   "source": [
    "Task 1 : Top Cuisines\n",
    "\n",
    "- Determine the top three most common cuisines in the dataset.\n",
    "- Calculate the percentage of restaurants that serve each of the top cuisines."
   ]
  },
  {
   "cell_type": "code",
   "execution_count": 31,
   "id": "bf9345f2",
   "metadata": {},
   "outputs": [
    {
     "data": {
      "text/plain": [
       "Cuisines\n",
       "North Indian                                             936\n",
       "North Indian, Chinese                                    511\n",
       "Chinese                                                  354\n",
       "Fast Food                                                354\n",
       "North Indian, Mughlai                                    334\n",
       "                                                        ... \n",
       "Bengali, Fast Food                                         1\n",
       "North Indian, Rajasthani, Asian                            1\n",
       "Chinese, Thai, Malaysian, Indonesian                       1\n",
       "Bakery, Desserts, North Indian, Bengali, South Indian      1\n",
       "Italian, World Cuisine                                     1\n",
       "Name: count, Length: 1825, dtype: int64"
      ]
     },
     "execution_count": 31,
     "metadata": {},
     "output_type": "execute_result"
    }
   ],
   "source": [
    "# Determine the top three most common cuisines in the dataset.\n",
    "\n",
    "# determining the cuisine count:\n",
    "\n",
    "df['Cuisines'].value_counts()"
   ]
  },
  {
   "cell_type": "code",
   "execution_count": 32,
   "id": "6cc1c0ad",
   "metadata": {},
   "outputs": [
    {
     "data": {
      "text/plain": [
       "Cuisines\n",
       "North Indian             936\n",
       "North Indian, Chinese    511\n",
       "Chinese                  354\n",
       "Name: count, dtype: int64"
      ]
     },
     "execution_count": 32,
     "metadata": {},
     "output_type": "execute_result"
    }
   ],
   "source": [
    "top_3_cuisines = df['Cuisines'].value_counts().nlargest(3)          # getting the top 3 Cusinies from dataset.\n",
    "top_3_cuisines"
   ]
  },
  {
   "cell_type": "code",
   "execution_count": 33,
   "id": "bd4f1177",
   "metadata": {},
   "outputs": [
    {
     "data": {
      "image/png": "[encoded data removed]",
      "text/plain": [
       "<Figure size 700x400 with 1 Axes>"
      ]
     },
     "metadata": {},
     "output_type": "display_data"
    }
   ],
   "source": [
    "# ploting it on graph :\n",
    "\n",
    "plt.figure(figsize=(7, 4))\n",
    "plt.bar(top_3_cuisines.index, top_3_cuisines.values)\n",
    "plt.xlabel(\"Cuisine\")\n",
    "plt.ylabel(\"Counts\")\n",
    "plt.title(\"Top 3 Cuisines in the Dataset\")\n",
    "plt.show()"
   ]
  },
  {
   "cell_type": "code",
   "execution_count": 34,
   "id": "e0ed2d37",
   "metadata": {},
   "outputs": [
    {
     "data": {
      "text/plain": [
       "Cuisines\n",
       "North Indian             9.81\n",
       "North Indian, Chinese    5.36\n",
       "Chinese                  3.71\n",
       "Name: count, dtype: float64"
      ]
     },
     "execution_count": 34,
     "metadata": {},
     "output_type": "execute_result"
    }
   ],
   "source": [
    "# Calculate the percentage of restaurants that serve each of the top cuisines:\n",
    "\n",
    "total_restaurants = len(df)\n",
    "percentage = (top_3_cuisines/total_restaurants)*100\n",
    "percentage.round(2)  # round() to get the 2 values after decimal."
   ]
  },
  {
   "cell_type": "code",
   "execution_count": 35,
   "id": "f1d7c63e",
   "metadata": {},
   "outputs": [
    {
     "data": {
      "image/png": "[encoded data removed]",
      "text/plain": [
       "<Figure size 640x480 with 1 Axes>"
      ]
     },
     "metadata": {},
     "output_type": "display_data"
    }
   ],
   "source": [
    "# ploting above cuisines on pie chart:\n",
    "\n",
    "plt.pie(top_3_cuisines, labels = top_3_cuisines.index, autopct='%1.1f%%')\n",
    "plt.title('Top 3 Cuisines in the Dataset')\n",
    "plt.show()"
   ]
  },
  {
   "cell_type": "markdown",
   "id": "1708329f",
   "metadata": {},
   "source": [
    "On exploring Top Cuisines following are the outcomes:\n",
    "\n",
    "- North Indian (936), North Indian, Chinese (511), and Chinese (Chinese) are the top 3 Cuisines among all the restaurants.\n",
    "- Percentage of restaurants that serve each of the top cuisines are 52.0%, 28.4% and 19.7% respectively."
   ]
  },
  {
   "cell_type": "markdown",
   "id": "5e761d2f",
   "metadata": {},
   "source": [
    "Task 2 : City Analysis\n",
    "    \n",
    "- Identify the city with the highest number of restaurants in the dataset.\n",
    "- Calculate the average rating for restaurants in each city.\n",
    "- Determine the city with the highest average rating."
   ]
  },
  {
   "cell_type": "code",
   "execution_count": 36,
   "id": "a6948cd5",
   "metadata": {},
   "outputs": [
    {
     "data": {
      "text/html": [
       "<div>\n",
       "<style scoped>\n",
       "    .dataframe tbody tr th:only-of-type {\n",
       "        vertical-align: middle;\n",
       "    }\n",
       "\n",
       "    .dataframe tbody tr th {\n",
       "        vertical-align: top;\n",
       "    }\n",
       "\n",
       "    .dataframe thead th {\n",
       "        text-align: right;\n",
       "    }\n",
       "</style>\n",
       "<table border=\"1\" class=\"dataframe\">\n",
       "  <thead>\n",
       "    <tr style=\"text-align: right;\">\n",
       "      <th></th>\n",
       "      <th>City</th>\n",
       "      <th>Restaurant ID</th>\n",
       "    </tr>\n",
       "  </thead>\n",
       "  <tbody>\n",
       "    <tr>\n",
       "      <th>88</th>\n",
       "      <td>New Delhi</td>\n",
       "      <td>5473</td>\n",
       "    </tr>\n",
       "    <tr>\n",
       "      <th>50</th>\n",
       "      <td>Gurgaon</td>\n",
       "      <td>1118</td>\n",
       "    </tr>\n",
       "    <tr>\n",
       "      <th>89</th>\n",
       "      <td>Noida</td>\n",
       "      <td>1080</td>\n",
       "    </tr>\n",
       "    <tr>\n",
       "      <th>43</th>\n",
       "      <td>Faridabad</td>\n",
       "      <td>251</td>\n",
       "    </tr>\n",
       "    <tr>\n",
       "      <th>48</th>\n",
       "      <td>Ghaziabad</td>\n",
       "      <td>25</td>\n",
       "    </tr>\n",
       "    <tr>\n",
       "      <th>...</th>\n",
       "      <td>...</td>\n",
       "      <td>...</td>\n",
       "    </tr>\n",
       "    <tr>\n",
       "      <th>97</th>\n",
       "      <td>Paynesville</td>\n",
       "      <td>1</td>\n",
       "    </tr>\n",
       "    <tr>\n",
       "      <th>98</th>\n",
       "      <td>Penola</td>\n",
       "      <td>1</td>\n",
       "    </tr>\n",
       "    <tr>\n",
       "      <th>100</th>\n",
       "      <td>Phillip Island</td>\n",
       "      <td>1</td>\n",
       "    </tr>\n",
       "    <tr>\n",
       "      <th>102</th>\n",
       "      <td>Potrero</td>\n",
       "      <td>1</td>\n",
       "    </tr>\n",
       "    <tr>\n",
       "      <th>139</th>\n",
       "      <td>Yorkton</td>\n",
       "      <td>1</td>\n",
       "    </tr>\n",
       "  </tbody>\n",
       "</table>\n",
       "<p>140 rows × 2 columns</p>\n",
       "</div>"
      ],
      "text/plain": [
       "               City  Restaurant ID\n",
       "88        New Delhi           5473\n",
       "50          Gurgaon           1118\n",
       "89            Noida           1080\n",
       "43        Faridabad            251\n",
       "48        Ghaziabad             25\n",
       "..              ...            ...\n",
       "97      Paynesville              1\n",
       "98           Penola              1\n",
       "100  Phillip Island              1\n",
       "102         Potrero              1\n",
       "139         Yorkton              1\n",
       "\n",
       "[140 rows x 2 columns]"
      ]
     },
     "execution_count": 36,
     "metadata": {},
     "output_type": "execute_result"
    }
   ],
   "source": [
    "# Identify the city with the highest number of restaurants in the dataset.\n",
    "\n",
    "# determining restaurant counts:\n",
    "\n",
    "restaurant_count = df.groupby('City')['Restaurant ID'].count().reset_index().sort_values('Restaurant ID', ascending=False)\n",
    "restaurant_count"
   ]
  },
  {
   "cell_type": "code",
   "execution_count": 37,
   "id": "a5e99e5f",
   "metadata": {},
   "outputs": [
    {
     "data": {
      "text/html": [
       "<div>\n",
       "<style scoped>\n",
       "    .dataframe tbody tr th:only-of-type {\n",
       "        vertical-align: middle;\n",
       "    }\n",
       "\n",
       "    .dataframe tbody tr th {\n",
       "        vertical-align: top;\n",
       "    }\n",
       "\n",
       "    .dataframe thead th {\n",
       "        text-align: right;\n",
       "    }\n",
       "</style>\n",
       "<table border=\"1\" class=\"dataframe\">\n",
       "  <thead>\n",
       "    <tr style=\"text-align: right;\">\n",
       "      <th></th>\n",
       "      <th>City</th>\n",
       "      <th>Aggregate rating</th>\n",
       "    </tr>\n",
       "  </thead>\n",
       "  <tbody>\n",
       "    <tr>\n",
       "      <th>0</th>\n",
       "      <td>Abu Dhabi</td>\n",
       "      <td>4.30</td>\n",
       "    </tr>\n",
       "    <tr>\n",
       "      <th>1</th>\n",
       "      <td>Agra</td>\n",
       "      <td>3.96</td>\n",
       "    </tr>\n",
       "    <tr>\n",
       "      <th>2</th>\n",
       "      <td>Ahmedabad</td>\n",
       "      <td>4.16</td>\n",
       "    </tr>\n",
       "    <tr>\n",
       "      <th>3</th>\n",
       "      <td>Albany</td>\n",
       "      <td>3.55</td>\n",
       "    </tr>\n",
       "    <tr>\n",
       "      <th>4</th>\n",
       "      <td>Allahabad</td>\n",
       "      <td>3.40</td>\n",
       "    </tr>\n",
       "    <tr>\n",
       "      <th>...</th>\n",
       "      <td>...</td>\n",
       "      <td>...</td>\n",
       "    </tr>\n",
       "    <tr>\n",
       "      <th>135</th>\n",
       "      <td>Waterloo</td>\n",
       "      <td>3.65</td>\n",
       "    </tr>\n",
       "    <tr>\n",
       "      <th>136</th>\n",
       "      <td>Weirton</td>\n",
       "      <td>3.90</td>\n",
       "    </tr>\n",
       "    <tr>\n",
       "      <th>137</th>\n",
       "      <td>Wellington City</td>\n",
       "      <td>4.25</td>\n",
       "    </tr>\n",
       "    <tr>\n",
       "      <th>138</th>\n",
       "      <td>Winchester Bay</td>\n",
       "      <td>3.20</td>\n",
       "    </tr>\n",
       "    <tr>\n",
       "      <th>139</th>\n",
       "      <td>Yorkton</td>\n",
       "      <td>3.30</td>\n",
       "    </tr>\n",
       "  </tbody>\n",
       "</table>\n",
       "<p>140 rows × 2 columns</p>\n",
       "</div>"
      ],
      "text/plain": [
       "                City  Aggregate rating\n",
       "0          Abu Dhabi              4.30\n",
       "1               Agra              3.96\n",
       "2          Ahmedabad              4.16\n",
       "3             Albany              3.55\n",
       "4          Allahabad              3.40\n",
       "..               ...               ...\n",
       "135         Waterloo              3.65\n",
       "136          Weirton              3.90\n",
       "137  Wellington City              4.25\n",
       "138   Winchester Bay              3.20\n",
       "139          Yorkton              3.30\n",
       "\n",
       "[140 rows x 2 columns]"
      ]
     },
     "execution_count": 37,
     "metadata": {},
     "output_type": "execute_result"
    }
   ],
   "source": [
    "# Calculate the average rating for restaurants in each city.\n",
    "\n",
    "average_rating = df.groupby('City')['Aggregate rating'].mean().reset_index()\n",
    "average_rating.round(2)"
   ]
  },
  {
   "cell_type": "code",
   "execution_count": 38,
   "id": "007ade8d",
   "metadata": {},
   "outputs": [
    {
     "data": {
      "text/html": [
       "<div>\n",
       "<style scoped>\n",
       "    .dataframe tbody tr th:only-of-type {\n",
       "        vertical-align: middle;\n",
       "    }\n",
       "\n",
       "    .dataframe tbody tr th {\n",
       "        vertical-align: top;\n",
       "    }\n",
       "\n",
       "    .dataframe thead th {\n",
       "        text-align: right;\n",
       "    }\n",
       "</style>\n",
       "<table border=\"1\" class=\"dataframe\">\n",
       "  <thead>\n",
       "    <tr style=\"text-align: right;\">\n",
       "      <th></th>\n",
       "      <th>City</th>\n",
       "      <th>Aggregate rating</th>\n",
       "    </tr>\n",
       "  </thead>\n",
       "  <tbody>\n",
       "    <tr>\n",
       "      <th>56</th>\n",
       "      <td>Inner City</td>\n",
       "      <td>4.90</td>\n",
       "    </tr>\n",
       "    <tr>\n",
       "      <th>107</th>\n",
       "      <td>Quezon City</td>\n",
       "      <td>4.80</td>\n",
       "    </tr>\n",
       "    <tr>\n",
       "      <th>74</th>\n",
       "      <td>Makati City</td>\n",
       "      <td>4.65</td>\n",
       "    </tr>\n",
       "    <tr>\n",
       "      <th>95</th>\n",
       "      <td>Pasig City</td>\n",
       "      <td>4.63</td>\n",
       "    </tr>\n",
       "    <tr>\n",
       "      <th>76</th>\n",
       "      <td>Mandaluyong City</td>\n",
       "      <td>4.62</td>\n",
       "    </tr>\n",
       "    <tr>\n",
       "      <th>...</th>\n",
       "      <td>...</td>\n",
       "      <td>...</td>\n",
       "    </tr>\n",
       "    <tr>\n",
       "      <th>88</th>\n",
       "      <td>New Delhi</td>\n",
       "      <td>2.44</td>\n",
       "    </tr>\n",
       "    <tr>\n",
       "      <th>83</th>\n",
       "      <td>Montville</td>\n",
       "      <td>2.40</td>\n",
       "    </tr>\n",
       "    <tr>\n",
       "      <th>79</th>\n",
       "      <td>Mc Millan</td>\n",
       "      <td>2.40</td>\n",
       "    </tr>\n",
       "    <tr>\n",
       "      <th>89</th>\n",
       "      <td>Noida</td>\n",
       "      <td>2.04</td>\n",
       "    </tr>\n",
       "    <tr>\n",
       "      <th>43</th>\n",
       "      <td>Faridabad</td>\n",
       "      <td>1.87</td>\n",
       "    </tr>\n",
       "  </tbody>\n",
       "</table>\n",
       "<p>140 rows × 2 columns</p>\n",
       "</div>"
      ],
      "text/plain": [
       "                 City  Aggregate rating\n",
       "56         Inner City              4.90\n",
       "107       Quezon City              4.80\n",
       "74        Makati City              4.65\n",
       "95         Pasig City              4.63\n",
       "76   Mandaluyong City              4.62\n",
       "..                ...               ...\n",
       "88          New Delhi              2.44\n",
       "83          Montville              2.40\n",
       "79          Mc Millan              2.40\n",
       "89              Noida              2.04\n",
       "43          Faridabad              1.87\n",
       "\n",
       "[140 rows x 2 columns]"
      ]
     },
     "execution_count": 38,
     "metadata": {},
     "output_type": "execute_result"
    }
   ],
   "source": [
    "# Determine the city with the highest average rating.\n",
    "ca = average_rating.round(2).sort_values(by='Aggregate rating', ascending=False)\n",
    "ca"
   ]
  },
  {
   "cell_type": "markdown",
   "id": "414d204a",
   "metadata": {},
   "source": [
    "With 'City Analysis' we have following observations:\n",
    "\n",
    "- New Delhi (5,473) is the city with the highest number of restaurants in the dataset.\n",
    "- Debriefed on the average rating for restaurants in each city.\n",
    "- 'Inner City' stands out on thr top for city with the highest average rating of 4.9."
   ]
  },
  {
   "cell_type": "markdown",
   "id": "36f2aa9f",
   "metadata": {},
   "source": [
    "Task 3 : Price Range Distribution\n",
    "- Create a histogram or bar chart to visualize the distribution of price ranges among the restaurants.\n",
    "- Calculate the percentage of restaurants in each price range category."
   ]
  },
  {
   "cell_type": "code",
   "execution_count": 39,
   "id": "7afb1569",
   "metadata": {},
   "outputs": [],
   "source": [
    "# Create a histogram or bar chart to visualize the distribution of price ranges among the restaurants.\n",
    "\n",
    "# counting for price range\n",
    "price_range_counts = df['Price range'].value_counts().sort_index()"
   ]
  },
  {
   "cell_type": "code",
   "execution_count": 40,
   "id": "8418905c",
   "metadata": {},
   "outputs": [
    {
     "data": {
      "image/png": "[encoded data removed]",
      "text/plain": [
       "<Figure size 640x480 with 1 Axes>"
      ]
     },
     "metadata": {},
     "output_type": "display_data"
    }
   ],
   "source": [
    "# Plotting the histogram for price range distribution\n",
    "\n",
    "plt.bar(price_range_counts.index, price_range_counts.values, color = 'cyan')\n",
    "plt.xlabel('Price Range')\n",
    "plt.ylabel('Count')\n",
    "plt.title('Distribution of price ranges')\n",
    "plt.show()"
   ]
  },
  {
   "cell_type": "code",
   "execution_count": 44,
   "id": "6ce40753",
   "metadata": {},
   "outputs": [
    {
     "name": "stdout",
     "output_type": "stream",
     "text": [
      "Percentage of restaurnats in each price range category:\n"
     ]
    },
    {
     "data": {
      "text/plain": [
       "Price range\n",
       "1    46.51\n",
       "2    32.62\n",
       "3    14.72\n",
       "4     6.14\n",
       "Name: count, dtype: float64"
      ]
     },
     "execution_count": 44,
     "metadata": {},
     "output_type": "execute_result"
    }
   ],
   "source": [
    "# Calculate the percentage of restaurants in each price range category.\n",
    "\n",
    "total_restaurants = len(df)\n",
    "percentage_per_price_range = (price_range_counts/total_restaurants)*100\n",
    "print(\"Percentage of restaurnats in each price range category:\")\n",
    "percentage_per_price_range.round(2)"
   ]
  },
  {
   "cell_type": "markdown",
   "id": "e680deb6",
   "metadata": {},
   "source": [
    "Upon performing Price-range Dstribution analysis, following are the results:\n",
    "\n",
    "- With price range bar graph for the distribution of price ranges among the restaurants, it evident that restaurants having least amount on there dishes get more orders.\n",
    "- Food with price range of 1 have been ordered more that is about 46.51% of the entire dataset."
   ]
  },
  {
   "cell_type": "markdown",
   "id": "1ca0223d",
   "metadata": {},
   "source": [
    "Task 4 : Online Delivery\n",
    "\n",
    "- Determine the percentage of restaurants that offer the online delivery.\n",
    "- Compare the average ratings of restaurants with and without online delivery."
   ]
  },
  {
   "cell_type": "code",
   "execution_count": 45,
   "id": "9334c9c2",
   "metadata": {},
   "outputs": [
    {
     "data": {
      "text/plain": [
       "Has Online delivery\n",
       "No     7091\n",
       "Yes    2451\n",
       "Name: count, dtype: int64"
      ]
     },
     "execution_count": 45,
     "metadata": {},
     "output_type": "execute_result"
    }
   ],
   "source": [
    "# determining the count of restaurnats having \"online delivery\".\n",
    "\n",
    "df['Has Online delivery'].value_counts()"
   ]
  },
  {
   "cell_type": "code",
   "execution_count": 46,
   "id": "dabcae2f",
   "metadata": {},
   "outputs": [
    {
     "name": "stdout",
     "output_type": "stream",
     "text": [
      "Percentage of restaurants that offer the online delivery: 25.69\n"
     ]
    }
   ],
   "source": [
    "# Calculate the percentage of restaurants that offer the online delivery.\n",
    "\n",
    "total_restaurants = len(df)\n",
    "online_delivery = df['Has Online delivery'].value_counts().get('Yes', 0)\n",
    "percentage_online_delivery = ((online_delivery/total_restaurants) * 100).round(2)\n",
    "print(\"Percentage of restaurants that offer the online delivery:\", percentage_online_delivery)"
   ]
  },
  {
   "cell_type": "code",
   "execution_count": 47,
   "id": "756fe5a5",
   "metadata": {},
   "outputs": [
    {
     "data": {
      "image/png": "[encoded data removed]",
      "text/plain": [
       "<Figure size 700x400 with 1 Axes>"
      ]
     },
     "metadata": {},
     "output_type": "display_data"
    }
   ],
   "source": [
    "# plot fro the percentage of restaurants offering online delivery.\n",
    "\n",
    "data = df['Has Online delivery'].value_counts()\n",
    "labels = data.index.astype(str)\n",
    "\n",
    "plt.figure(figsize=(7, 4)) \n",
    "plt.pie(data, labels=labels, autopct=\"%1.1f%%\", startangle=90)\n",
    "plt.title(\"Online Delivery Availability\")\n",
    "plt.show()"
   ]
  },
  {
   "cell_type": "code",
   "execution_count": 48,
   "id": "66872988",
   "metadata": {},
   "outputs": [
    {
     "name": "stdout",
     "output_type": "stream",
     "text": [
      "Average ratings of restaurants with online delivery: 3.2488372093023257\n",
      "Average ratings of restaurants without online delivery: 2.4635171343957127\n"
     ]
    }
   ],
   "source": [
    "# Calculating Avg rating for Restaurants with and without online delivery\n",
    "\n",
    "Online_delivery = df[df['Has Online delivery'] == 'Yes']['Aggregate rating'].mean()\n",
    "Without_online_delivery = df[df['Has Online delivery'] == 'No']['Aggregate rating'].mean()\n",
    "\n",
    "print(\"Average ratings of restaurants with online delivery:\", Online_delivery)\n",
    "print(\"Average ratings of restaurants without online delivery:\", Without_online_delivery)"
   ]
  },
  {
   "cell_type": "code",
   "execution_count": 50,
   "id": "fee0dda7",
   "metadata": {},
   "outputs": [
    {
     "data": {
      "image/png": "[encoded data removed]",
      "text/plain": [
       "<Figure size 640x480 with 1 Axes>"
      ]
     },
     "metadata": {},
     "output_type": "display_data"
    }
   ],
   "source": [
    "# Compare the average ratings of restaurants with and without online delivery.\n",
    "\n",
    "labels = ['Online_delivery', 'Without_online_delivery']\n",
    "average_ratings = [Online_delivery, Without_online_delivery]\n",
    "\n",
    "plt.bar(labels, average_ratings)\n",
    "plt.xlabel('Online Delivery')\n",
    "plt.ylabel('Average Rating')\n",
    "plt.title('Comparison of Average Ratings')\n",
    "plt.show()"
   ]
  },
  {
   "cell_type": "markdown",
   "id": "8da44b6f",
   "metadata": {},
   "source": [
    "With analysing the online delivery of restaurnts, following are the outcomes:\n",
    "\n",
    "- From the entire dataset only 2,451 restaurants are providing online deliver which is only 25.7% of the entire dataset.\n",
    "- Restaurants providing online delivery are given more average ratings."
   ]
  },
  {
   "cell_type": "markdown",
   "id": "8d6ce811",
   "metadata": {},
   "source": [
    "# Level 2 tasks"
   ]
  },
  {
   "cell_type": "markdown",
   "id": "6a39a598",
   "metadata": {},
   "source": [
    "Task 1 : Restaurant Ratings\n",
    "\n",
    "- Analyze the distribution of aggregate ratings and determine the most common rating range.\n",
    "- Calculate the average number of votes received by restaurants."
   ]
  },
  {
   "cell_type": "code",
   "execution_count": 53,
   "id": "58bb3ea5",
   "metadata": {},
   "outputs": [
    {
     "data": {
      "image/png": "[encoded data removed]",
      "text/plain": [
       "<Figure size 700x400 with 1 Axes>"
      ]
     },
     "metadata": {},
     "output_type": "display_data"
    }
   ],
   "source": [
    "# Analyze the distribution of aggregate ratings and determine the most common rating range.\n",
    "\n",
    "# Plotting the Aggregate rating distribution graph:\n",
    "\n",
    "plt.figure(figsize=(7,4))\n",
    "plt.hist(df['Aggregate rating'], bins=10, edgecolor='white', color = 'purple')\n",
    "plt.xlabel('Aggregate rating')\n",
    "plt.ylabel('Frequency')\n",
    "plt.title('Distribution of Aggregate Ratings')\n",
    "plt.show()"
   ]
  },
  {
   "cell_type": "code",
   "execution_count": 54,
   "id": "47b301ce",
   "metadata": {},
   "outputs": [
    {
     "name": "stdout",
     "output_type": "stream",
     "text": [
      "Most common rating range: 3.5\n"
     ]
    }
   ],
   "source": [
    "# using lambda function to get the most common rating in the dataset:\n",
    "\n",
    "most_common_rating_range = df['Aggregate rating'].apply(lambda x: round(x*2)/2).mode()[0]\n",
    "print(\"Most common rating range:\", most_common_rating_range)"
   ]
  },
  {
   "cell_type": "code",
   "execution_count": 55,
   "id": "e5de56c7",
   "metadata": {},
   "outputs": [
    {
     "name": "stdout",
     "output_type": "stream",
     "text": [
      "Average number of votes received by restaurants: 156.77\n"
     ]
    }
   ],
   "source": [
    "# Calculate the average number of votes received by restaurants.\n",
    "\n",
    "average_votes = df['Votes'].mean().round(2)\n",
    "print(\"Average number of votes received by restaurants:\", average_votes)"
   ]
  },
  {
   "cell_type": "markdown",
   "id": "421016c9",
   "metadata": {},
   "source": [
    "With exploring restaurants rating from the dataset:\n",
    "    \n",
    "- The most common rating range exists from 3 - 4 .\n",
    "- the most common rating in all the dataset is marked at 3.5.\n",
    "- Average number of votes received by restaurants are 156.77."
   ]
  },
  {
   "cell_type": "markdown",
   "id": "2789b331",
   "metadata": {},
   "source": [
    "Task 2 : Cuisine Combinations\n",
    "\n",
    "- Identify the most common combinations of cuisines in the dataset.\n",
    "- Determine if certain cuisine combinations tend to have higher ratings."
   ]
  },
  {
   "cell_type": "code",
   "execution_count": 56,
   "id": "b68f4a91",
   "metadata": {},
   "outputs": [
    {
     "data": {
      "text/plain": [
       "array(['French, Japanese, Desserts', 'Japanese',\n",
       "       'Seafood, Asian, Filipino, Indian', ..., 'Burger, Izgara',\n",
       "       'World Cuisine, Patisserie, Cafe', 'Italian, World Cuisine'],\n",
       "      dtype=object)"
      ]
     },
     "execution_count": 56,
     "metadata": {},
     "output_type": "execute_result"
    }
   ],
   "source": [
    "# identifying unique cuisines from the dataset.\n",
    "\n",
    "df['Cuisines'].unique()"
   ]
  },
  {
   "cell_type": "code",
   "execution_count": 57,
   "id": "d8c6e2dd",
   "metadata": {},
   "outputs": [
    {
     "data": {
      "text/plain": [
       "Cuisines\n",
       "North Indian, Chinese                         511\n",
       "North Indian, Mughlai                         334\n",
       "North Indian, Mughlai, Chinese                197\n",
       "Bakery, Desserts                              170\n",
       "Pizza, Fast Food                              131\n",
       "                                             ... \n",
       "South Indian, Desserts, Beverages               1\n",
       "Healthy Food, North Indian, Italian, Salad      1\n",
       "Bengali, Fast Food                              1\n",
       "North Indian, Rajasthani, Asian                 1\n",
       "Italian, World Cuisine                          1\n",
       "Name: count, Length: 1731, dtype: int64"
      ]
     },
     "execution_count": 57,
     "metadata": {},
     "output_type": "execute_result"
    }
   ],
   "source": [
    "# Identify the most common combinations of cuisines in the dataset.\n",
    "\n",
    "# determining the cuisine combinations \n",
    "\n",
    "cuisines_combination = df['Cuisines'].str.contains(', ')\n",
    "df[cuisines_combination]['Cuisines'].value_counts()"
   ]
  },
  {
   "cell_type": "code",
   "execution_count": 58,
   "id": "39f93dc4",
   "metadata": {},
   "outputs": [
    {
     "data": {
      "image/png": "[encoded data removed]",
      "text/plain": [
       "<Figure size 640x480 with 1 Axes>"
      ]
     },
     "metadata": {},
     "output_type": "display_data"
    }
   ],
   "source": [
    "# plotting the top 5 cuisine combinations on a pie chart\n",
    "\n",
    "top_5_cuisines = df[cuisines_combination]['Cuisines'].value_counts().head(5)\n",
    "plt.pie(top_5_cuisines.values, labels=top_5_cuisines.index, autopct='%1.1f%%')\n",
    "plt.title('Top 5 Cuisine Combinations')\n",
    "plt.show()"
   ]
  },
  {
   "cell_type": "code",
   "execution_count": 59,
   "id": "b78f76f6",
   "metadata": {},
   "outputs": [
    {
     "data": {
      "text/html": [
       "<div>\n",
       "<style scoped>\n",
       "    .dataframe tbody tr th:only-of-type {\n",
       "        vertical-align: middle;\n",
       "    }\n",
       "\n",
       "    .dataframe tbody tr th {\n",
       "        vertical-align: top;\n",
       "    }\n",
       "\n",
       "    .dataframe thead th {\n",
       "        text-align: right;\n",
       "    }\n",
       "</style>\n",
       "<table border=\"1\" class=\"dataframe\">\n",
       "  <thead>\n",
       "    <tr style=\"text-align: right;\">\n",
       "      <th></th>\n",
       "      <th>Cuisines</th>\n",
       "      <th>Aggregate rating</th>\n",
       "    </tr>\n",
       "  </thead>\n",
       "  <tbody>\n",
       "    <tr>\n",
       "      <th>1015</th>\n",
       "      <td>Italian, Deli</td>\n",
       "      <td>4.9</td>\n",
       "    </tr>\n",
       "    <tr>\n",
       "      <th>657</th>\n",
       "      <td>Continental, Indian</td>\n",
       "      <td>4.9</td>\n",
       "    </tr>\n",
       "    <tr>\n",
       "      <th>910</th>\n",
       "      <td>Hawaiian, Seafood</td>\n",
       "      <td>4.9</td>\n",
       "    </tr>\n",
       "    <tr>\n",
       "      <th>30</th>\n",
       "      <td>American, Burger, Grill</td>\n",
       "      <td>4.9</td>\n",
       "    </tr>\n",
       "    <tr>\n",
       "      <th>38</th>\n",
       "      <td>American, Coffee and Tea</td>\n",
       "      <td>4.9</td>\n",
       "    </tr>\n",
       "    <tr>\n",
       "      <th>...</th>\n",
       "      <td>...</td>\n",
       "      <td>...</td>\n",
       "    </tr>\n",
       "    <tr>\n",
       "      <th>520</th>\n",
       "      <td>Chinese, Mithai</td>\n",
       "      <td>0.0</td>\n",
       "    </tr>\n",
       "    <tr>\n",
       "      <th>516</th>\n",
       "      <td>Chinese, Lucknowi</td>\n",
       "      <td>0.0</td>\n",
       "    </tr>\n",
       "    <tr>\n",
       "      <th>197</th>\n",
       "      <td>Bakery, Healthy Food</td>\n",
       "      <td>0.0</td>\n",
       "    </tr>\n",
       "    <tr>\n",
       "      <th>1329</th>\n",
       "      <td>North Indian, Chinese, Tibetan</td>\n",
       "      <td>0.0</td>\n",
       "    </tr>\n",
       "    <tr>\n",
       "      <th>0</th>\n",
       "      <td>Afghani, Mughlai, Chinese</td>\n",
       "      <td>0.0</td>\n",
       "    </tr>\n",
       "  </tbody>\n",
       "</table>\n",
       "<p>1731 rows × 2 columns</p>\n",
       "</div>"
      ],
      "text/plain": [
       "                            Cuisines  Aggregate rating\n",
       "1015                   Italian, Deli               4.9\n",
       "657              Continental, Indian               4.9\n",
       "910                Hawaiian, Seafood               4.9\n",
       "30           American, Burger, Grill               4.9\n",
       "38          American, Coffee and Tea               4.9\n",
       "...                              ...               ...\n",
       "520                  Chinese, Mithai               0.0\n",
       "516                Chinese, Lucknowi               0.0\n",
       "197             Bakery, Healthy Food               0.0\n",
       "1329  North Indian, Chinese, Tibetan               0.0\n",
       "0          Afghani, Mughlai, Chinese               0.0\n",
       "\n",
       "[1731 rows x 2 columns]"
      ]
     },
     "execution_count": 59,
     "metadata": {},
     "output_type": "execute_result"
    }
   ],
   "source": [
    "# Determine if certain cuisine combinations tend to have higher ratings.\n",
    "\n",
    "# Create a new dataframe with only the rows that have cuisine combinations\n",
    "\n",
    "df_combinations = df[cuisines_combination]\n",
    "\n",
    "# Group the data by cuisine combination and calculate the mean aggregate rating\n",
    "\n",
    "combination_ratings = df_combinations.groupby('Cuisines')['Aggregate rating'].mean().reset_index()\n",
    "\n",
    "# Sort the results in descending order\n",
    "\n",
    "combination_ratings = combination_ratings.sort_values('Aggregate rating', ascending=False)\n",
    "combination_ratings"
   ]
  },
  {
   "cell_type": "code",
   "execution_count": 60,
   "id": "eb9a4055",
   "metadata": {},
   "outputs": [
    {
     "data": {
      "image/png": "[encoded data removed]",
      "text/plain": [
       "<Figure size 640x480 with 1 Axes>"
      ]
     },
     "metadata": {},
     "output_type": "display_data"
    }
   ],
   "source": [
    "# Plot the top 10 cuisine combinations with the highest mean aggregate ratings\n",
    "\n",
    "plt.barh(combination_ratings.head(10)['Cuisines'], combination_ratings.head(10)['Aggregate rating'], color='#7A288A')\n",
    "plt.xlabel('Mean Aggregate Rating')\n",
    "plt.ylabel('Cuisine Combination')\n",
    "plt.title('Top 10 Cuisine Combinations with Highest Mean Aggregate Ratings')\n",
    "plt.show()"
   ]
  },
  {
   "cell_type": "markdown",
   "id": "99637e59",
   "metadata": {},
   "source": [
    "Upon analyising all the cuisine combinations in the datset:\n",
    "\n",
    "- There are 1,731 cuisine combinations, North Indian and Chineese is the most common cuisine combination.\n",
    "- Italian & Deli, Conitinantal & Indian and Hawaiian & seafood are the cuisine combinations in the data set having hiegher ratings."
   ]
  },
  {
   "cell_type": "markdown",
   "id": "f27ac357",
   "metadata": {},
   "source": [
    "Task 3 : Geographical Analysis\n",
    "\n",
    "- Plot the locations of the rstaurant on map using longitude & latitude.\n",
    "- Identify any patterns or clusters of restaurants in specific areas."
   ]
  },
  {
   "cell_type": "code",
   "execution_count": 61,
   "id": "3ed6cefb",
   "metadata": {},
   "outputs": [
    {
     "name": "stdout",
     "output_type": "stream",
     "text": [
      "Requirement already satisfied: geopandas in c:\\users\\dell\\anaconda3\\new folder\\lib\\site-packages (1.0.0)\n",
      "Requirement already satisfied: numpy>=1.22 in c:\\users\\dell\\anaconda3\\new folder\\lib\\site-packages (from geopandas) (1.24.3)\n",
      "Requirement already satisfied: pyogrio>=0.7.2 in c:\\users\\dell\\anaconda3\\new folder\\lib\\site-packages (from geopandas) (0.9.0)\n",
      "Requirement already satisfied: packaging in c:\\users\\dell\\anaconda3\\new folder\\lib\\site-packages (from geopandas) (23.1)\n",
      "Requirement already satisfied: pandas>=1.4.0 in c:\\users\\dell\\anaconda3\\new folder\\lib\\site-packages (from geopandas) (2.0.3)\n",
      "Requirement already satisfied: pyproj>=3.3.0 in c:\\users\\dell\\anaconda3\\new folder\\lib\\site-packages (from geopandas) (3.6.1)\n",
      "Requirement already satisfied: shapely>=2.0.0 in c:\\users\\dell\\anaconda3\\new folder\\lib\\site-packages (from geopandas) (2.0.4)\n",
      "Requirement already satisfied: python-dateutil>=2.8.2 in c:\\users\\dell\\anaconda3\\new folder\\lib\\site-packages (from pandas>=1.4.0->geopandas) (2.8.2)\n",
      "Requirement already satisfied: pytz>=2020.1 in c:\\users\\dell\\anaconda3\\new folder\\lib\\site-packages (from pandas>=1.4.0->geopandas) (2023.3.post1)\n",
      "Requirement already satisfied: tzdata>=2022.1 in c:\\users\\dell\\anaconda3\\new folder\\lib\\site-packages (from pandas>=1.4.0->geopandas) (2023.3)\n",
      "Requirement already satisfied: certifi in c:\\users\\dell\\anaconda3\\new folder\\lib\\site-packages (from pyogrio>=0.7.2->geopandas) (2023.7.22)\n",
      "Requirement already satisfied: six>=1.5 in c:\\users\\dell\\anaconda3\\new folder\\lib\\site-packages (from python-dateutil>=2.8.2->pandas>=1.4.0->geopandas) (1.16.0)\n"
     ]
    }
   ],
   "source": [
    "# Plot the locations of the rstaurant on map using longitude & latitude.\n",
    "\n",
    "# installing geopandas to plot the map:\n",
    "\n",
    "!pip install geopandas"
   ]
  },
  {
   "cell_type": "code",
   "execution_count": 62,
   "id": "c83d3d23",
   "metadata": {},
   "outputs": [],
   "source": [
    "# importing Geopandas\n",
    "\n",
    "import geopandas as gpd"
   ]
  },
  {
   "cell_type": "code",
   "execution_count": 67,
   "id": "c66eebeb",
   "metadata": {},
   "outputs": [
    {
     "data": {
      "image/png": "[encoded data removed]",
      "text/plain": [
       "<Figure size 1500x600 with 2 Axes>"
      ]
     },
     "metadata": {},
     "output_type": "display_data"
    }
   ],
   "source": [
    "# plotting the world map to represent the restaurants in the dataset\n",
    "\n",
    "world = gpd.read_file(r\"C:\\Users\\DELL\\Downloads\\ne_110m_admin_0_countries\\ne_110m_admin_0_countries.shp\")\n",
    "fig, ax = plt.subplots(figsize=(15,6))\n",
    "world.plot(ax=ax, color='lightgray', edgecolor='gray')\n",
    "scatter = ax.scatter(df['Longitude'], df['Latitude'], c=df['Aggregate rating'], s=50, cmap='viridis')\n",
    "ax.set_title('Restaurant Locations and Ratings')\n",
    "ax.set_xlabel('Longitude')\n",
    "ax.set_ylabel('Latitude')\n",
    "plt.colorbar(scatter, label='Aggregate rating') # Pass the scatter object to plt.colorbar\n",
    "plt.tight_layout()\n",
    "plt.grid(True)\n",
    "plt.show()"
   ]
  },
  {
   "cell_type": "code",
   "execution_count": 68,
   "id": "5b1c1695",
   "metadata": {},
   "outputs": [],
   "source": [
    "# Identify any patterns or clusters of restaurants in specific areas.\n",
    "\n",
    "# importing Sklearn, KMeans\n",
    "\n",
    "from sklearn.preprocessing import StandardScaler\n",
    "from sklearn.cluster import KMeans\n",
    "from ctypes import alignment"
   ]
  },
  {
   "cell_type": "code",
   "execution_count": 69,
   "id": "d4ca7e26",
   "metadata": {},
   "outputs": [
    {
     "name": "stderr",
     "output_type": "stream",
     "text": [
      "C:\\Users\\DELL\\anaconda3\\New folder\\Lib\\site-packages\\sklearn\\cluster\\_kmeans.py:1412: FutureWarning: The default value of `n_init` will change from 10 to 'auto' in 1.4. Set the value of `n_init` explicitly to suppress the warning\n",
      "  super()._check_params_vs_input(X, default_n_init=10)\n"
     ]
    },
    {
     "data": {
      "image/png": "[encoded data removed]",
      "text/plain": [
       "<Figure size 640x480 with 1 Axes>"
      ]
     },
     "metadata": {},
     "output_type": "display_data"
    }
   ],
   "source": [
    "# standardize the latitude and logitude\n",
    "scaler = StandardScaler()\n",
    "coordinates = df[['Latitude', 'Longitude']]\n",
    "scaled_coordinates = scaler.fit_transform(coordinates)\n",
    "\n",
    "num_clusters = 3\n",
    "kMeans = KMeans(n_clusters = num_clusters, random_state = 42)\n",
    "df['cluster'] = kMeans.fit_predict(coordinates)\n",
    "\n",
    "for cluster in range(num_clusters):\n",
    "    cluster_df = df.loc[df['cluster'] == cluster]\n",
    "    plt.scatter(cluster_df['Longitude'], cluster_df['Latitude'], marker= \"*\", alpha=0.5, label=f'Cluster {cluster+1}')\n",
    "plt.legend()\n",
    "plt.title ('Restaurant Clusters')\n",
    "plt.xlabel('Longitude')\n",
    "plt.ylabel('Latitude')\n",
    "plt.show()"
   ]
  },
  {
   "cell_type": "markdown",
   "id": "d2dd5a35",
   "metadata": {},
   "source": [
    "Geographical Analysis \n",
    "\n",
    "- Helps in determining the clusters forming in South east Asia, majorly from Idndia the followed by USA and then the rest of the world."
   ]
  },
  {
   "cell_type": "markdown",
   "id": "83526ad7",
   "metadata": {},
   "source": [
    "Task 4 : Restaurant Chain\n",
    "\n",
    "- Identify if there are any restaurants chains present in the dataset.\n",
    "- Analyze the ratings and popularity of different restaurant chains."
   ]
  },
  {
   "cell_type": "code",
   "execution_count": 70,
   "id": "56df16cd",
   "metadata": {},
   "outputs": [
    {
     "data": {
      "text/plain": [
       "Restaurant Name\n",
       "Cafe Coffee Day             83\n",
       "Domino's Pizza              79\n",
       "Subway                      63\n",
       "Green Chick Chop            51\n",
       "McDonald's                  48\n",
       "                            ..\n",
       "The Town House Cafe          1\n",
       "The G.T. Road                1\n",
       "The Darzi Bar & Kitchen      1\n",
       "Smoke On Water               1\n",
       "Walter's Coffee Roastery     1\n",
       "Name: count, Length: 7437, dtype: int64"
      ]
     },
     "execution_count": 70,
     "metadata": {},
     "output_type": "execute_result"
    }
   ],
   "source": [
    "# Identify if there are any restaurants chains present in the dataset.\n",
    "\n",
    "# counting the the no. of restaurants present in the dataset\n",
    "\n",
    "restaurant_counts = df['Restaurant Name'].value_counts()\n",
    "restaurant_counts"
   ]
  },
  {
   "cell_type": "code",
   "execution_count": 71,
   "id": "0cd22a8a",
   "metadata": {},
   "outputs": [
    {
     "data": {
      "text/html": [
       "<div>\n",
       "<style scoped>\n",
       "    .dataframe tbody tr th:only-of-type {\n",
       "        vertical-align: middle;\n",
       "    }\n",
       "\n",
       "    .dataframe tbody tr th {\n",
       "        vertical-align: top;\n",
       "    }\n",
       "\n",
       "    .dataframe thead th {\n",
       "        text-align: right;\n",
       "    }\n",
       "</style>\n",
       "<table border=\"1\" class=\"dataframe\">\n",
       "  <thead>\n",
       "    <tr style=\"text-align: right;\">\n",
       "      <th></th>\n",
       "      <th>Restaurant Name</th>\n",
       "      <th>count</th>\n",
       "    </tr>\n",
       "  </thead>\n",
       "  <tbody>\n",
       "    <tr>\n",
       "      <th>0</th>\n",
       "      <td>Cafe Coffee Day</td>\n",
       "      <td>83</td>\n",
       "    </tr>\n",
       "    <tr>\n",
       "      <th>1</th>\n",
       "      <td>Domino's Pizza</td>\n",
       "      <td>79</td>\n",
       "    </tr>\n",
       "    <tr>\n",
       "      <th>2</th>\n",
       "      <td>Subway</td>\n",
       "      <td>63</td>\n",
       "    </tr>\n",
       "    <tr>\n",
       "      <th>3</th>\n",
       "      <td>Green Chick Chop</td>\n",
       "      <td>51</td>\n",
       "    </tr>\n",
       "    <tr>\n",
       "      <th>4</th>\n",
       "      <td>McDonald's</td>\n",
       "      <td>48</td>\n",
       "    </tr>\n",
       "    <tr>\n",
       "      <th>...</th>\n",
       "      <td>...</td>\n",
       "      <td>...</td>\n",
       "    </tr>\n",
       "    <tr>\n",
       "      <th>729</th>\n",
       "      <td>Zaika Kathi Rolls</td>\n",
       "      <td>2</td>\n",
       "    </tr>\n",
       "    <tr>\n",
       "      <th>730</th>\n",
       "      <td>The Night Owl</td>\n",
       "      <td>2</td>\n",
       "    </tr>\n",
       "    <tr>\n",
       "      <th>731</th>\n",
       "      <td>The Cheesecake Factory</td>\n",
       "      <td>2</td>\n",
       "    </tr>\n",
       "    <tr>\n",
       "      <th>732</th>\n",
       "      <td>New Kadimi</td>\n",
       "      <td>2</td>\n",
       "    </tr>\n",
       "    <tr>\n",
       "      <th>733</th>\n",
       "      <td>Ceviche Tapas Bar &amp; Restaurant</td>\n",
       "      <td>2</td>\n",
       "    </tr>\n",
       "  </tbody>\n",
       "</table>\n",
       "<p>734 rows × 2 columns</p>\n",
       "</div>"
      ],
      "text/plain": [
       "                    Restaurant Name  count\n",
       "0                   Cafe Coffee Day     83\n",
       "1                    Domino's Pizza     79\n",
       "2                            Subway     63\n",
       "3                  Green Chick Chop     51\n",
       "4                        McDonald's     48\n",
       "..                              ...    ...\n",
       "729               Zaika Kathi Rolls      2\n",
       "730                   The Night Owl      2\n",
       "731          The Cheesecake Factory      2\n",
       "732                      New Kadimi      2\n",
       "733  Ceviche Tapas Bar & Restaurant      2\n",
       "\n",
       "[734 rows x 2 columns]"
      ]
     },
     "execution_count": 71,
     "metadata": {},
     "output_type": "execute_result"
    }
   ],
   "source": [
    "# identifying restaurant chains in the dataset\n",
    "\n",
    "restaurant_chains = restaurant_counts[restaurant_counts > 1]\n",
    "restaurant_chains.reset_index()"
   ]
  },
  {
   "cell_type": "code",
   "execution_count": 72,
   "id": "cb4e9695",
   "metadata": {},
   "outputs": [
    {
     "data": {
      "text/html": [
       "<div>\n",
       "<style scoped>\n",
       "    .dataframe tbody tr th:only-of-type {\n",
       "        vertical-align: middle;\n",
       "    }\n",
       "\n",
       "    .dataframe tbody tr th {\n",
       "        vertical-align: top;\n",
       "    }\n",
       "\n",
       "    .dataframe thead th {\n",
       "        text-align: right;\n",
       "    }\n",
       "</style>\n",
       "<table border=\"1\" class=\"dataframe\">\n",
       "  <thead>\n",
       "    <tr style=\"text-align: right;\">\n",
       "      <th></th>\n",
       "      <th>Restaurant ID</th>\n",
       "      <th>Restaurant Name</th>\n",
       "      <th>Country Code</th>\n",
       "      <th>City</th>\n",
       "      <th>Longitude</th>\n",
       "      <th>Latitude</th>\n",
       "      <th>Cuisines</th>\n",
       "      <th>Average Cost for two</th>\n",
       "      <th>Currency</th>\n",
       "      <th>Has Table booking</th>\n",
       "      <th>Has Online delivery</th>\n",
       "      <th>Is delivering now</th>\n",
       "      <th>Price range</th>\n",
       "      <th>Aggregate rating</th>\n",
       "      <th>Rating color</th>\n",
       "      <th>Rating text</th>\n",
       "      <th>Votes</th>\n",
       "      <th>cluster</th>\n",
       "    </tr>\n",
       "  </thead>\n",
       "  <tbody>\n",
       "    <tr>\n",
       "      <th>5</th>\n",
       "      <td>18189371</td>\n",
       "      <td>Din Tai Fung</td>\n",
       "      <td>162</td>\n",
       "      <td>Mandaluyong City</td>\n",
       "      <td>121.056314</td>\n",
       "      <td>14.583764</td>\n",
       "      <td>Chinese</td>\n",
       "      <td>1000</td>\n",
       "      <td>Botswana Pula(P)</td>\n",
       "      <td>No</td>\n",
       "      <td>No</td>\n",
       "      <td>No</td>\n",
       "      <td>3</td>\n",
       "      <td>4.4</td>\n",
       "      <td>Green</td>\n",
       "      <td>Very Good</td>\n",
       "      <td>336</td>\n",
       "      <td>0</td>\n",
       "    </tr>\n",
       "    <tr>\n",
       "      <th>10</th>\n",
       "      <td>6309903</td>\n",
       "      <td>Silantro Fil-Mex</td>\n",
       "      <td>162</td>\n",
       "      <td>Pasig City</td>\n",
       "      <td>121.057916</td>\n",
       "      <td>14.567689</td>\n",
       "      <td>Filipino, Mexican</td>\n",
       "      <td>800</td>\n",
       "      <td>Botswana Pula(P)</td>\n",
       "      <td>No</td>\n",
       "      <td>No</td>\n",
       "      <td>No</td>\n",
       "      <td>3</td>\n",
       "      <td>4.9</td>\n",
       "      <td>Dark Green</td>\n",
       "      <td>Excellent</td>\n",
       "      <td>1070</td>\n",
       "      <td>0</td>\n",
       "    </tr>\n",
       "    <tr>\n",
       "      <th>12</th>\n",
       "      <td>6318433</td>\n",
       "      <td>Silantro Fil-Mex</td>\n",
       "      <td>162</td>\n",
       "      <td>Quezon City</td>\n",
       "      <td>121.075419</td>\n",
       "      <td>14.649503</td>\n",
       "      <td>Filipino, Mexican</td>\n",
       "      <td>800</td>\n",
       "      <td>Botswana Pula(P)</td>\n",
       "      <td>No</td>\n",
       "      <td>No</td>\n",
       "      <td>No</td>\n",
       "      <td>3</td>\n",
       "      <td>4.8</td>\n",
       "      <td>Dark Green</td>\n",
       "      <td>Excellent</td>\n",
       "      <td>294</td>\n",
       "      <td>0</td>\n",
       "    </tr>\n",
       "    <tr>\n",
       "      <th>35</th>\n",
       "      <td>6601589</td>\n",
       "      <td>Coco Bambu</td>\n",
       "      <td>30</td>\n",
       "      <td>Brazilia</td>\n",
       "      <td>-47.889000</td>\n",
       "      <td>-15.786500</td>\n",
       "      <td>International</td>\n",
       "      <td>230</td>\n",
       "      <td>Brazilian Real(BRL)</td>\n",
       "      <td>No</td>\n",
       "      <td>No</td>\n",
       "      <td>No</td>\n",
       "      <td>4</td>\n",
       "      <td>4.2</td>\n",
       "      <td>Green</td>\n",
       "      <td>Very Good</td>\n",
       "      <td>17</td>\n",
       "      <td>2</td>\n",
       "    </tr>\n",
       "    <tr>\n",
       "      <th>39</th>\n",
       "      <td>6600427</td>\n",
       "      <td>Coco Bambu</td>\n",
       "      <td>30</td>\n",
       "      <td>Brazilia</td>\n",
       "      <td>-47.868500</td>\n",
       "      <td>-15.819000</td>\n",
       "      <td>International</td>\n",
       "      <td>230</td>\n",
       "      <td>Brazilian Real(BRL)</td>\n",
       "      <td>No</td>\n",
       "      <td>No</td>\n",
       "      <td>No</td>\n",
       "      <td>4</td>\n",
       "      <td>4.9</td>\n",
       "      <td>Dark Green</td>\n",
       "      <td>Excellent</td>\n",
       "      <td>30</td>\n",
       "      <td>2</td>\n",
       "    </tr>\n",
       "    <tr>\n",
       "      <th>...</th>\n",
       "      <td>...</td>\n",
       "      <td>...</td>\n",
       "      <td>...</td>\n",
       "      <td>...</td>\n",
       "      <td>...</td>\n",
       "      <td>...</td>\n",
       "      <td>...</td>\n",
       "      <td>...</td>\n",
       "      <td>...</td>\n",
       "      <td>...</td>\n",
       "      <td>...</td>\n",
       "      <td>...</td>\n",
       "      <td>...</td>\n",
       "      <td>...</td>\n",
       "      <td>...</td>\n",
       "      <td>...</td>\n",
       "      <td>...</td>\n",
       "      <td>...</td>\n",
       "    </tr>\n",
       "    <tr>\n",
       "      <th>9517</th>\n",
       "      <td>6001980</td>\n",
       "      <td>Timboo Cafe</td>\n",
       "      <td>208</td>\n",
       "      <td>Ankara</td>\n",
       "      <td>32.809247</td>\n",
       "      <td>39.913206</td>\n",
       "      <td>Cafe</td>\n",
       "      <td>70</td>\n",
       "      <td>Turkish Lira(TL)</td>\n",
       "      <td>No</td>\n",
       "      <td>No</td>\n",
       "      <td>No</td>\n",
       "      <td>3</td>\n",
       "      <td>4.2</td>\n",
       "      <td>Green</td>\n",
       "      <td>Very Good</td>\n",
       "      <td>134</td>\n",
       "      <td>0</td>\n",
       "    </tr>\n",
       "    <tr>\n",
       "      <th>9528</th>\n",
       "      <td>6003668</td>\n",
       "      <td>Timboo Cafe</td>\n",
       "      <td>208</td>\n",
       "      <td>Ankara</td>\n",
       "      <td>32.776255</td>\n",
       "      <td>39.908957</td>\n",
       "      <td>Cafe</td>\n",
       "      <td>70</td>\n",
       "      <td>Turkish Lira(TL)</td>\n",
       "      <td>No</td>\n",
       "      <td>No</td>\n",
       "      <td>No</td>\n",
       "      <td>3</td>\n",
       "      <td>4.2</td>\n",
       "      <td>Green</td>\n",
       "      <td>Very Good</td>\n",
       "      <td>79</td>\n",
       "      <td>0</td>\n",
       "    </tr>\n",
       "    <tr>\n",
       "      <th>9534</th>\n",
       "      <td>6004089</td>\n",
       "      <td>D�_vero��lu</td>\n",
       "      <td>208</td>\n",
       "      <td>Ankara</td>\n",
       "      <td>32.842742</td>\n",
       "      <td>39.922536</td>\n",
       "      <td>Kebab, Desserts, Turkish Pizza</td>\n",
       "      <td>70</td>\n",
       "      <td>Turkish Lira(TL)</td>\n",
       "      <td>No</td>\n",
       "      <td>No</td>\n",
       "      <td>No</td>\n",
       "      <td>3</td>\n",
       "      <td>4.4</td>\n",
       "      <td>Green</td>\n",
       "      <td>Very Good</td>\n",
       "      <td>131</td>\n",
       "      <td>0</td>\n",
       "    </tr>\n",
       "    <tr>\n",
       "      <th>9535</th>\n",
       "      <td>6000921</td>\n",
       "      <td>D�_vero��lu</td>\n",
       "      <td>208</td>\n",
       "      <td>Ankara</td>\n",
       "      <td>32.701775</td>\n",
       "      <td>39.891564</td>\n",
       "      <td>Kebab, Desserts, Turkish Pizza</td>\n",
       "      <td>70</td>\n",
       "      <td>Turkish Lira(TL)</td>\n",
       "      <td>No</td>\n",
       "      <td>No</td>\n",
       "      <td>No</td>\n",
       "      <td>3</td>\n",
       "      <td>4.2</td>\n",
       "      <td>Green</td>\n",
       "      <td>Very Good</td>\n",
       "      <td>152</td>\n",
       "      <td>0</td>\n",
       "    </tr>\n",
       "    <tr>\n",
       "      <th>9538</th>\n",
       "      <td>5901782</td>\n",
       "      <td>Starbucks</td>\n",
       "      <td>208</td>\n",
       "      <td>Istanbul</td>\n",
       "      <td>29.043734</td>\n",
       "      <td>41.077696</td>\n",
       "      <td>Cafe</td>\n",
       "      <td>30</td>\n",
       "      <td>Turkish Lira(TL)</td>\n",
       "      <td>No</td>\n",
       "      <td>No</td>\n",
       "      <td>No</td>\n",
       "      <td>2</td>\n",
       "      <td>4.9</td>\n",
       "      <td>Dark Green</td>\n",
       "      <td>Excellent</td>\n",
       "      <td>1042</td>\n",
       "      <td>2</td>\n",
       "    </tr>\n",
       "  </tbody>\n",
       "</table>\n",
       "<p>2839 rows × 18 columns</p>\n",
       "</div>"
      ],
      "text/plain": [
       "      Restaurant ID   Restaurant Name  Country Code              City  \\\n",
       "5          18189371      Din Tai Fung           162  Mandaluyong City   \n",
       "10          6309903  Silantro Fil-Mex           162        Pasig City   \n",
       "12          6318433  Silantro Fil-Mex           162       Quezon City   \n",
       "35          6601589        Coco Bambu            30          Brazilia   \n",
       "39          6600427        Coco Bambu            30          Brazilia   \n",
       "...             ...               ...           ...               ...   \n",
       "9517        6001980       Timboo Cafe           208            Ankara   \n",
       "9528        6003668       Timboo Cafe           208            Ankara   \n",
       "9534        6004089       D�_vero��lu           208            Ankara   \n",
       "9535        6000921       D�_vero��lu           208            Ankara   \n",
       "9538        5901782         Starbucks           208          Istanbul   \n",
       "\n",
       "       Longitude   Latitude                        Cuisines  \\\n",
       "5     121.056314  14.583764                         Chinese   \n",
       "10    121.057916  14.567689               Filipino, Mexican   \n",
       "12    121.075419  14.649503               Filipino, Mexican   \n",
       "35    -47.889000 -15.786500                   International   \n",
       "39    -47.868500 -15.819000                   International   \n",
       "...          ...        ...                             ...   \n",
       "9517   32.809247  39.913206                            Cafe   \n",
       "9528   32.776255  39.908957                            Cafe   \n",
       "9534   32.842742  39.922536  Kebab, Desserts, Turkish Pizza   \n",
       "9535   32.701775  39.891564  Kebab, Desserts, Turkish Pizza   \n",
       "9538   29.043734  41.077696                            Cafe   \n",
       "\n",
       "      Average Cost for two             Currency Has Table booking  \\\n",
       "5                     1000     Botswana Pula(P)                No   \n",
       "10                     800     Botswana Pula(P)                No   \n",
       "12                     800     Botswana Pula(P)                No   \n",
       "35                     230  Brazilian Real(BRL)                No   \n",
       "39                     230  Brazilian Real(BRL)                No   \n",
       "...                    ...                  ...               ...   \n",
       "9517                    70     Turkish Lira(TL)                No   \n",
       "9528                    70     Turkish Lira(TL)                No   \n",
       "9534                    70     Turkish Lira(TL)                No   \n",
       "9535                    70     Turkish Lira(TL)                No   \n",
       "9538                    30     Turkish Lira(TL)                No   \n",
       "\n",
       "     Has Online delivery Is delivering now  Price range  Aggregate rating  \\\n",
       "5                     No                No            3               4.4   \n",
       "10                    No                No            3               4.9   \n",
       "12                    No                No            3               4.8   \n",
       "35                    No                No            4               4.2   \n",
       "39                    No                No            4               4.9   \n",
       "...                  ...               ...          ...               ...   \n",
       "9517                  No                No            3               4.2   \n",
       "9528                  No                No            3               4.2   \n",
       "9534                  No                No            3               4.4   \n",
       "9535                  No                No            3               4.2   \n",
       "9538                  No                No            2               4.9   \n",
       "\n",
       "     Rating color Rating text  Votes  cluster  \n",
       "5           Green   Very Good    336        0  \n",
       "10     Dark Green   Excellent   1070        0  \n",
       "12     Dark Green   Excellent    294        0  \n",
       "35          Green   Very Good     17        2  \n",
       "39     Dark Green   Excellent     30        2  \n",
       "...           ...         ...    ...      ...  \n",
       "9517        Green   Very Good    134        0  \n",
       "9528        Green   Very Good     79        0  \n",
       "9534        Green   Very Good    131        0  \n",
       "9535        Green   Very Good    152        0  \n",
       "9538   Dark Green   Excellent   1042        2  \n",
       "\n",
       "[2839 rows x 18 columns]"
      ]
     },
     "execution_count": 72,
     "metadata": {},
     "output_type": "execute_result"
    }
   ],
   "source": [
    "# locating Restaurnt chains from the dataset\n",
    "\n",
    "restaurant_chain_data = df.loc[df['Restaurant Name'].isin(restaurant_chains.index)]\n",
    "restaurant_chain_data"
   ]
  },
  {
   "cell_type": "code",
   "execution_count": 73,
   "id": "aef0c65c",
   "metadata": {},
   "outputs": [
    {
     "name": "stdout",
     "output_type": "stream",
     "text": [
      "Restaurant chain ratings and popularity\n"
     ]
    },
    {
     "data": {
      "text/html": [
       "<div>\n",
       "<style scoped>\n",
       "    .dataframe tbody tr th:only-of-type {\n",
       "        vertical-align: middle;\n",
       "    }\n",
       "\n",
       "    .dataframe tbody tr th {\n",
       "        vertical-align: top;\n",
       "    }\n",
       "\n",
       "    .dataframe thead th {\n",
       "        text-align: right;\n",
       "    }\n",
       "</style>\n",
       "<table border=\"1\" class=\"dataframe\">\n",
       "  <thead>\n",
       "    <tr style=\"text-align: right;\">\n",
       "      <th></th>\n",
       "      <th>Average rating</th>\n",
       "      <th>Total votes</th>\n",
       "    </tr>\n",
       "    <tr>\n",
       "      <th>Restaurant Name</th>\n",
       "      <th></th>\n",
       "      <th></th>\n",
       "    </tr>\n",
       "  </thead>\n",
       "  <tbody>\n",
       "    <tr>\n",
       "      <th>Talaga Sampireun</th>\n",
       "      <td>4.900</td>\n",
       "      <td>5514</td>\n",
       "    </tr>\n",
       "    <tr>\n",
       "      <th>Silantro Fil-Mex</th>\n",
       "      <td>4.850</td>\n",
       "      <td>1364</td>\n",
       "    </tr>\n",
       "    <tr>\n",
       "      <th>AB's Absolute Barbecues</th>\n",
       "      <td>4.850</td>\n",
       "      <td>3151</td>\n",
       "    </tr>\n",
       "    <tr>\n",
       "      <th>AB's - Absolute Barbecues</th>\n",
       "      <td>4.825</td>\n",
       "      <td>13400</td>\n",
       "    </tr>\n",
       "    <tr>\n",
       "      <th>Naturals Ice Cream</th>\n",
       "      <td>4.800</td>\n",
       "      <td>3094</td>\n",
       "    </tr>\n",
       "    <tr>\n",
       "      <th>...</th>\n",
       "      <td>...</td>\n",
       "      <td>...</td>\n",
       "    </tr>\n",
       "    <tr>\n",
       "      <th>Big Biryani</th>\n",
       "      <td>0.000</td>\n",
       "      <td>1</td>\n",
       "    </tr>\n",
       "    <tr>\n",
       "      <th>Flavours Kitchen</th>\n",
       "      <td>0.000</td>\n",
       "      <td>3</td>\n",
       "    </tr>\n",
       "    <tr>\n",
       "      <th>Anand Sweets</th>\n",
       "      <td>0.000</td>\n",
       "      <td>3</td>\n",
       "    </tr>\n",
       "    <tr>\n",
       "      <th>Radha Swami Shudh Vaishno Dhaba</th>\n",
       "      <td>0.000</td>\n",
       "      <td>6</td>\n",
       "    </tr>\n",
       "    <tr>\n",
       "      <th>OCD - Online Cake Delivery</th>\n",
       "      <td>0.000</td>\n",
       "      <td>2</td>\n",
       "    </tr>\n",
       "  </tbody>\n",
       "</table>\n",
       "<p>734 rows × 2 columns</p>\n",
       "</div>"
      ],
      "text/plain": [
       "                                 Average rating  Total votes\n",
       "Restaurant Name                                             \n",
       "Talaga Sampireun                          4.900         5514\n",
       "Silantro Fil-Mex                          4.850         1364\n",
       "AB's Absolute Barbecues                   4.850         3151\n",
       "AB's - Absolute Barbecues                 4.825        13400\n",
       "Naturals Ice Cream                        4.800         3094\n",
       "...                                         ...          ...\n",
       "Big Biryani                               0.000            1\n",
       "Flavours Kitchen                          0.000            3\n",
       "Anand Sweets                              0.000            3\n",
       "Radha Swami Shudh Vaishno Dhaba           0.000            6\n",
       "OCD - Online Cake Delivery                0.000            2\n",
       "\n",
       "[734 rows x 2 columns]"
      ]
     },
     "execution_count": 73,
     "metadata": {},
     "output_type": "execute_result"
    }
   ],
   "source": [
    "# Analyze the ratings and popularity of different restaurant chains.\n",
    "\n",
    "restaurant_chain_avg_rating = restaurant_chain_data.groupby('Restaurant Name')['Aggregate rating'].mean()\n",
    "chain_total_votes = restaurant_chain_data.groupby('Restaurant Name')['Votes'].sum()\n",
    "\n",
    "restaurant_chain_info = pd.DataFrame({'Average rating': restaurant_chain_avg_rating, 'Total votes' : chain_total_votes})\n",
    "print('Restaurant chain ratings and popularity')\n",
    "restaurant_chain_info = restaurant_chain_info.sort_values('Average rating', ascending=False)\n",
    "restaurant_chain_info"
   ]
  },
  {
   "cell_type": "markdown",
   "id": "a6021036",
   "metadata": {},
   "source": [
    "Analyising  the \"Restaurant Chains\" from the dataset, its evident that:\n",
    "\n",
    "-  There are total of 734 restaurant chain in the dataset, and Cafe coffe day has most numbers of restaurnats (83).\n",
    "-  \"Talaga Sampireun\" the restaurant chain that has total of 5517 votes with average rating of 4.9."
   ]
  },
  {
   "cell_type": "markdown",
   "id": "0793ba55",
   "metadata": {},
   "source": [
    "# Level 3 tasks"
   ]
  },
  {
   "cell_type": "markdown",
   "id": "c5b215d8",
   "metadata": {},
   "source": [
    "Task 1 : Restaurant Reviews\n",
    "\n",
    "- Analyze the text reviews to identify the most common positive and negative keywords.\n",
    "- Calculate the average length of reviews and explore if there is a relationship between review length and rating."
   ]
  },
  {
   "cell_type": "code",
   "execution_count": 74,
   "id": "812469b2",
   "metadata": {},
   "outputs": [
    {
     "data": {
      "text/html": [
       "<div>\n",
       "<style scoped>\n",
       "    .dataframe tbody tr th:only-of-type {\n",
       "        vertical-align: middle;\n",
       "    }\n",
       "\n",
       "    .dataframe tbody tr th {\n",
       "        vertical-align: top;\n",
       "    }\n",
       "\n",
       "    .dataframe thead th {\n",
       "        text-align: right;\n",
       "    }\n",
       "</style>\n",
       "<table border=\"1\" class=\"dataframe\">\n",
       "  <thead>\n",
       "    <tr style=\"text-align: right;\">\n",
       "      <th></th>\n",
       "      <th>Rating text</th>\n",
       "      <th>count</th>\n",
       "    </tr>\n",
       "  </thead>\n",
       "  <tbody>\n",
       "    <tr>\n",
       "      <th>0</th>\n",
       "      <td>Average</td>\n",
       "      <td>3734</td>\n",
       "    </tr>\n",
       "    <tr>\n",
       "      <th>1</th>\n",
       "      <td>Not rated</td>\n",
       "      <td>2148</td>\n",
       "    </tr>\n",
       "    <tr>\n",
       "      <th>2</th>\n",
       "      <td>Good</td>\n",
       "      <td>2096</td>\n",
       "    </tr>\n",
       "    <tr>\n",
       "      <th>3</th>\n",
       "      <td>Very Good</td>\n",
       "      <td>1078</td>\n",
       "    </tr>\n",
       "    <tr>\n",
       "      <th>4</th>\n",
       "      <td>Excellent</td>\n",
       "      <td>300</td>\n",
       "    </tr>\n",
       "    <tr>\n",
       "      <th>5</th>\n",
       "      <td>Poor</td>\n",
       "      <td>186</td>\n",
       "    </tr>\n",
       "  </tbody>\n",
       "</table>\n",
       "</div>"
      ],
      "text/plain": [
       "  Rating text  count\n",
       "0     Average   3734\n",
       "1   Not rated   2148\n",
       "2        Good   2096\n",
       "3   Very Good   1078\n",
       "4   Excellent    300\n",
       "5        Poor    186"
      ]
     },
     "execution_count": 74,
     "metadata": {},
     "output_type": "execute_result"
    }
   ],
   "source": [
    "# Analyze the text reviews to identify the most common positive and negative keywords.\n",
    "\n",
    "# count of different rating texts available in the dataset:\n",
    "\n",
    "text_reviews = df['Rating text'].value_counts()\n",
    "text_reviews.reset_index()"
   ]
  },
  {
   "cell_type": "code",
   "execution_count": 75,
   "id": "6578fc6b",
   "metadata": {},
   "outputs": [
    {
     "data": {
      "image/png": "[encoded data removed]",
      "text/plain": [
       "<Figure size 700x500 with 1 Axes>"
      ]
     },
     "metadata": {},
     "output_type": "display_data"
    }
   ],
   "source": [
    "# ploting the text reviews on the \n",
    "\n",
    "plt.figure(figsize=(7, 5)) \n",
    "plt.pie(text_reviews.values, labels = text_reviews.index, autopct = \"%.1f%%\", radius = 1)\n",
    "plt.show()"
   ]
  },
  {
   "cell_type": "code",
   "execution_count": 76,
   "id": "648c0ae8",
   "metadata": {},
   "outputs": [
    {
     "name": "stdout",
     "output_type": "stream",
     "text": [
      "Average Review Length: 1.34\n"
     ]
    }
   ],
   "source": [
    "# Calculate the average length of reviews and explore if there is a relationship between review length and rating.\n",
    "\n",
    "# Calculating average review length:\n",
    "\n",
    "reviews = df['Rating text']\n",
    "total_reviews = len(reviews)\n",
    "avg_review_length = sum(len(review.split()) for review in reviews) / total_reviews\n",
    "avg_review_length = round(avg_review_length, 2)\n",
    "print('Average Review Length:', avg_review_length)"
   ]
  },
  {
   "cell_type": "code",
   "execution_count": 80,
   "id": "f4630f65",
   "metadata": {},
   "outputs": [
    {
     "name": "stdout",
     "output_type": "stream",
     "text": [
      "Rating v/s Average reviews length\n",
      "{4.8: 1.0, 4.5: 1.0, 4.4: 2.0, 4.9: 1.0, 4.0: 2.0, 4.2: 2.0, 4.3: 2.0, 3.6: 1.0, 4.7: 1.0, 3.0: 1.0, 3.8: 1.0, 3.7: 1.0, 3.2: 1.0, 3.1: 1.0, 0.0: 2.0, 4.1: 2.0, 3.3: 1.0, 4.6: 1.0, 3.9: 1.0, 3.4: 1.0, 3.5: 1.0, 2.2: 1.0, 2.9: 1.0, 2.4: 1.0, 2.6: 1.0, 2.8: 1.0, 2.1: 1.0, 2.7: 1.0, 2.5: 1.0, 1.8: 1.0, 2.0: 1.0, 2.3: 1.0, 1.9: 1.0}\n"
     ]
    }
   ],
   "source": [
    "# analysing the relationship between ratings and review length:\n",
    "review_len_vs_rating = {}\n",
    "\n",
    "for rating in df['Aggregate rating'].unique():\n",
    "    filtered_reviews = df.loc[df['Aggregate rating'] == rating]['Rating text']\n",
    "    total_length = 0\n",
    "    total_reviews = len(filtered_reviews)\n",
    "    \n",
    "    for review in filtered_reviews:\n",
    "        total_length += len(review.split())\n",
    "    \n",
    "    average_length = total_length / total_reviews\n",
    "    review_len_vs_rating[rating] = average_length\n",
    "    \n",
    "print('Rating v/s Average reviews length')\n",
    "print(review_len_vs_rating)"
   ]
  },
  {
   "cell_type": "code",
   "execution_count": 78,
   "id": "89df1510",
   "metadata": {},
   "outputs": [
    {
     "name": "stdout",
     "output_type": "stream",
     "text": [
      "Rating v/s Average reviews length\n",
      "{0.0: 2.0, 1.8: 1.0, 1.9: 1.0, 2.0: 1.0, 2.1: 1.0, 2.2: 1.0, 2.3: 1.0, 2.4: 1.0, 2.5: 1.0, 2.6: 1.0, 2.7: 1.0, 2.8: 1.0, 2.9: 1.0, 3.0: 1.0, 3.1: 1.0, 3.2: 1.0, 3.3: 1.0, 3.4: 1.0, 3.5: 1.0, 3.6: 1.0, 3.7: 1.0, 3.8: 1.0, 3.9: 1.0, 4.0: 2.0, 4.1: 2.0, 4.2: 2.0, 4.3: 2.0, 4.4: 2.0, 4.5: 1.0, 4.6: 1.0, 4.7: 1.0, 4.8: 1.0, 4.9: 1.0}\n"
     ]
    }
   ],
   "source": [
    "# Calculate the average review length for each rating and store it in a dictionary\n",
    "\n",
    "review_len_vs_rating = df.groupby('Aggregate rating')['Rating text'].apply(lambda x: x.str.split().str.len().mean()).to_dict()\n",
    "print('Rating v/s Average reviews length')\n",
    "print(review_len_vs_rating)"
   ]
  },
  {
   "cell_type": "code",
   "execution_count": 82,
   "id": "b843685c",
   "metadata": {},
   "outputs": [
    {
     "data": {
      "text/html": [
       "<div>\n",
       "<style scoped>\n",
       "    .dataframe tbody tr th:only-of-type {\n",
       "        vertical-align: middle;\n",
       "    }\n",
       "\n",
       "    .dataframe tbody tr th {\n",
       "        vertical-align: top;\n",
       "    }\n",
       "\n",
       "    .dataframe thead th {\n",
       "        text-align: right;\n",
       "    }\n",
       "</style>\n",
       "<table border=\"1\" class=\"dataframe\">\n",
       "  <thead>\n",
       "    <tr style=\"text-align: right;\">\n",
       "      <th></th>\n",
       "      <th>Rating</th>\n",
       "      <th>Average Review Length</th>\n",
       "    </tr>\n",
       "  </thead>\n",
       "  <tbody>\n",
       "    <tr>\n",
       "      <th>14</th>\n",
       "      <td>0.0</td>\n",
       "      <td>2.0</td>\n",
       "    </tr>\n",
       "    <tr>\n",
       "      <th>29</th>\n",
       "      <td>1.8</td>\n",
       "      <td>1.0</td>\n",
       "    </tr>\n",
       "    <tr>\n",
       "      <th>32</th>\n",
       "      <td>1.9</td>\n",
       "      <td>1.0</td>\n",
       "    </tr>\n",
       "    <tr>\n",
       "      <th>30</th>\n",
       "      <td>2.0</td>\n",
       "      <td>1.0</td>\n",
       "    </tr>\n",
       "    <tr>\n",
       "      <th>26</th>\n",
       "      <td>2.1</td>\n",
       "      <td>1.0</td>\n",
       "    </tr>\n",
       "    <tr>\n",
       "      <th>21</th>\n",
       "      <td>2.2</td>\n",
       "      <td>1.0</td>\n",
       "    </tr>\n",
       "    <tr>\n",
       "      <th>31</th>\n",
       "      <td>2.3</td>\n",
       "      <td>1.0</td>\n",
       "    </tr>\n",
       "    <tr>\n",
       "      <th>23</th>\n",
       "      <td>2.4</td>\n",
       "      <td>1.0</td>\n",
       "    </tr>\n",
       "    <tr>\n",
       "      <th>28</th>\n",
       "      <td>2.5</td>\n",
       "      <td>1.0</td>\n",
       "    </tr>\n",
       "    <tr>\n",
       "      <th>24</th>\n",
       "      <td>2.6</td>\n",
       "      <td>1.0</td>\n",
       "    </tr>\n",
       "    <tr>\n",
       "      <th>27</th>\n",
       "      <td>2.7</td>\n",
       "      <td>1.0</td>\n",
       "    </tr>\n",
       "    <tr>\n",
       "      <th>25</th>\n",
       "      <td>2.8</td>\n",
       "      <td>1.0</td>\n",
       "    </tr>\n",
       "    <tr>\n",
       "      <th>22</th>\n",
       "      <td>2.9</td>\n",
       "      <td>1.0</td>\n",
       "    </tr>\n",
       "    <tr>\n",
       "      <th>9</th>\n",
       "      <td>3.0</td>\n",
       "      <td>1.0</td>\n",
       "    </tr>\n",
       "    <tr>\n",
       "      <th>13</th>\n",
       "      <td>3.1</td>\n",
       "      <td>1.0</td>\n",
       "    </tr>\n",
       "    <tr>\n",
       "      <th>12</th>\n",
       "      <td>3.2</td>\n",
       "      <td>1.0</td>\n",
       "    </tr>\n",
       "    <tr>\n",
       "      <th>16</th>\n",
       "      <td>3.3</td>\n",
       "      <td>1.0</td>\n",
       "    </tr>\n",
       "    <tr>\n",
       "      <th>19</th>\n",
       "      <td>3.4</td>\n",
       "      <td>1.0</td>\n",
       "    </tr>\n",
       "    <tr>\n",
       "      <th>20</th>\n",
       "      <td>3.5</td>\n",
       "      <td>1.0</td>\n",
       "    </tr>\n",
       "    <tr>\n",
       "      <th>7</th>\n",
       "      <td>3.6</td>\n",
       "      <td>1.0</td>\n",
       "    </tr>\n",
       "    <tr>\n",
       "      <th>11</th>\n",
       "      <td>3.7</td>\n",
       "      <td>1.0</td>\n",
       "    </tr>\n",
       "    <tr>\n",
       "      <th>10</th>\n",
       "      <td>3.8</td>\n",
       "      <td>1.0</td>\n",
       "    </tr>\n",
       "    <tr>\n",
       "      <th>18</th>\n",
       "      <td>3.9</td>\n",
       "      <td>1.0</td>\n",
       "    </tr>\n",
       "    <tr>\n",
       "      <th>4</th>\n",
       "      <td>4.0</td>\n",
       "      <td>2.0</td>\n",
       "    </tr>\n",
       "    <tr>\n",
       "      <th>15</th>\n",
       "      <td>4.1</td>\n",
       "      <td>2.0</td>\n",
       "    </tr>\n",
       "    <tr>\n",
       "      <th>5</th>\n",
       "      <td>4.2</td>\n",
       "      <td>2.0</td>\n",
       "    </tr>\n",
       "    <tr>\n",
       "      <th>6</th>\n",
       "      <td>4.3</td>\n",
       "      <td>2.0</td>\n",
       "    </tr>\n",
       "    <tr>\n",
       "      <th>2</th>\n",
       "      <td>4.4</td>\n",
       "      <td>2.0</td>\n",
       "    </tr>\n",
       "    <tr>\n",
       "      <th>1</th>\n",
       "      <td>4.5</td>\n",
       "      <td>1.0</td>\n",
       "    </tr>\n",
       "    <tr>\n",
       "      <th>17</th>\n",
       "      <td>4.6</td>\n",
       "      <td>1.0</td>\n",
       "    </tr>\n",
       "    <tr>\n",
       "      <th>8</th>\n",
       "      <td>4.7</td>\n",
       "      <td>1.0</td>\n",
       "    </tr>\n",
       "    <tr>\n",
       "      <th>0</th>\n",
       "      <td>4.8</td>\n",
       "      <td>1.0</td>\n",
       "    </tr>\n",
       "    <tr>\n",
       "      <th>3</th>\n",
       "      <td>4.9</td>\n",
       "      <td>1.0</td>\n",
       "    </tr>\n",
       "  </tbody>\n",
       "</table>\n",
       "</div>"
      ],
      "text/plain": [
       "    Rating  Average Review Length\n",
       "14     0.0                    2.0\n",
       "29     1.8                    1.0\n",
       "32     1.9                    1.0\n",
       "30     2.0                    1.0\n",
       "26     2.1                    1.0\n",
       "21     2.2                    1.0\n",
       "31     2.3                    1.0\n",
       "23     2.4                    1.0\n",
       "28     2.5                    1.0\n",
       "24     2.6                    1.0\n",
       "27     2.7                    1.0\n",
       "25     2.8                    1.0\n",
       "22     2.9                    1.0\n",
       "9      3.0                    1.0\n",
       "13     3.1                    1.0\n",
       "12     3.2                    1.0\n",
       "16     3.3                    1.0\n",
       "19     3.4                    1.0\n",
       "20     3.5                    1.0\n",
       "7      3.6                    1.0\n",
       "11     3.7                    1.0\n",
       "10     3.8                    1.0\n",
       "18     3.9                    1.0\n",
       "4      4.0                    2.0\n",
       "15     4.1                    2.0\n",
       "5      4.2                    2.0\n",
       "6      4.3                    2.0\n",
       "2      4.4                    2.0\n",
       "1      4.5                    1.0\n",
       "17     4.6                    1.0\n",
       "8      4.7                    1.0\n",
       "0      4.8                    1.0\n",
       "3      4.9                    1.0"
      ]
     },
     "execution_count": 82,
     "metadata": {},
     "output_type": "execute_result"
    }
   ],
   "source": [
    "# Create a DataFrame from the review_len_vs_rating dictionary\n",
    "\n",
    "df_review_len_vs_rating = pd.DataFrame(list(review_len_vs_rating.items()), columns=['Rating', 'Average Review Length'])\n",
    "df_review_len_vs_rating\n",
    "\n",
    "# Sort the DataFrame by the 'Rating' column in ascending order\n",
    "df_review_len_vs_rating = df_review_len_vs_rating.sort_values(by='Rating')\n",
    "\n",
    "df_review_len_vs_rating"
   ]
  },
  {
   "cell_type": "code",
   "execution_count": 83,
   "id": "f9cf5f87",
   "metadata": {},
   "outputs": [
    {
     "name": "stdout",
     "output_type": "stream",
     "text": [
      "Correlation between review length and rating: -0.599682369752233\n"
     ]
    }
   ],
   "source": [
    "# Calculate the correlation between review length and rating\n",
    "\n",
    "review_lengths = df['Rating text'].apply(lambda x: len(x.split()))\n",
    "correlation = review_lengths.corr(df['Aggregate rating'])\n",
    "\n",
    "print('Correlation between review length and rating:', correlation)"
   ]
  },
  {
   "cell_type": "code",
   "execution_count": 84,
   "id": "5864a5a1",
   "metadata": {},
   "outputs": [
    {
     "data": {
      "image/png": "[encoded data removed]",
      "text/plain": [
       "<Figure size 600x600 with 1 Axes>"
      ]
     },
     "metadata": {},
     "output_type": "display_data"
    }
   ],
   "source": [
    "# Create a scatter plot\n",
    "\n",
    "plt.figure(figsize=(6,6))\n",
    "sns.scatterplot(x=review_lengths, y=df['Aggregate rating'])\n",
    "plt.title(f'Correlation between Review Length and Rating (r={correlation:.2f})')\n",
    "plt.xlabel('Review Length')\n",
    "plt.ylabel('Aggregate Rating')\n",
    "plt.show()"
   ]
  },
  {
   "cell_type": "markdown",
   "id": "e580823f",
   "metadata": {},
   "source": [
    "After analysing the \"Rstaurant reviews\" following are the observations:\n",
    "\n",
    "- Most common positive review is 'Average' with 3734 counts amking it 39.1 % of the data, most common negative review is 'Poor' which is on 180 in count making just 1.9% of data, and there is 'Not rated' review which is 2148 in count, sencond largest portion of the whole data.\n",
    "- With review length calculations we observed that there is negative reltion between review length and rating, meaning that as the length of the review increases, the aggregate rating tends to decrease."
   ]
  },
  {
   "cell_type": "markdown",
   "id": "8022953d",
   "metadata": {},
   "source": [
    "Task 2 : Vote Analysis\n",
    "\n",
    "- Identify the restaurants with the highest and lowest number of votes.\n",
    "- Analyze if there is a correlation between the number of votes and the rating of a restaurant."
   ]
  },
  {
   "cell_type": "code",
   "execution_count": 85,
   "id": "fe5c7582",
   "metadata": {},
   "outputs": [
    {
     "data": {
      "text/html": [
       "<div>\n",
       "<style scoped>\n",
       "    .dataframe tbody tr th:only-of-type {\n",
       "        vertical-align: middle;\n",
       "    }\n",
       "\n",
       "    .dataframe tbody tr th {\n",
       "        vertical-align: top;\n",
       "    }\n",
       "\n",
       "    .dataframe thead th {\n",
       "        text-align: right;\n",
       "    }\n",
       "</style>\n",
       "<table border=\"1\" class=\"dataframe\">\n",
       "  <thead>\n",
       "    <tr style=\"text-align: right;\">\n",
       "      <th></th>\n",
       "      <th>index</th>\n",
       "      <th>728</th>\n",
       "    </tr>\n",
       "  </thead>\n",
       "  <tbody>\n",
       "    <tr>\n",
       "      <th>0</th>\n",
       "      <td>Restaurant ID</td>\n",
       "      <td>51705</td>\n",
       "    </tr>\n",
       "    <tr>\n",
       "      <th>1</th>\n",
       "      <td>Restaurant Name</td>\n",
       "      <td>Toit</td>\n",
       "    </tr>\n",
       "    <tr>\n",
       "      <th>2</th>\n",
       "      <td>Country Code</td>\n",
       "      <td>1</td>\n",
       "    </tr>\n",
       "    <tr>\n",
       "      <th>3</th>\n",
       "      <td>City</td>\n",
       "      <td>Bangalore</td>\n",
       "    </tr>\n",
       "    <tr>\n",
       "      <th>4</th>\n",
       "      <td>Longitude</td>\n",
       "      <td>77.640709</td>\n",
       "    </tr>\n",
       "    <tr>\n",
       "      <th>5</th>\n",
       "      <td>Latitude</td>\n",
       "      <td>12.979166</td>\n",
       "    </tr>\n",
       "    <tr>\n",
       "      <th>6</th>\n",
       "      <td>Cuisines</td>\n",
       "      <td>Italian, American, Pizza</td>\n",
       "    </tr>\n",
       "    <tr>\n",
       "      <th>7</th>\n",
       "      <td>Average Cost for two</td>\n",
       "      <td>2000</td>\n",
       "    </tr>\n",
       "    <tr>\n",
       "      <th>8</th>\n",
       "      <td>Currency</td>\n",
       "      <td>Indian Rupees(Rs.)</td>\n",
       "    </tr>\n",
       "    <tr>\n",
       "      <th>9</th>\n",
       "      <td>Has Table booking</td>\n",
       "      <td>No</td>\n",
       "    </tr>\n",
       "    <tr>\n",
       "      <th>10</th>\n",
       "      <td>Has Online delivery</td>\n",
       "      <td>No</td>\n",
       "    </tr>\n",
       "    <tr>\n",
       "      <th>11</th>\n",
       "      <td>Is delivering now</td>\n",
       "      <td>No</td>\n",
       "    </tr>\n",
       "    <tr>\n",
       "      <th>12</th>\n",
       "      <td>Price range</td>\n",
       "      <td>4</td>\n",
       "    </tr>\n",
       "    <tr>\n",
       "      <th>13</th>\n",
       "      <td>Aggregate rating</td>\n",
       "      <td>4.8</td>\n",
       "    </tr>\n",
       "    <tr>\n",
       "      <th>14</th>\n",
       "      <td>Rating color</td>\n",
       "      <td>Dark Green</td>\n",
       "    </tr>\n",
       "    <tr>\n",
       "      <th>15</th>\n",
       "      <td>Rating text</td>\n",
       "      <td>Excellent</td>\n",
       "    </tr>\n",
       "    <tr>\n",
       "      <th>16</th>\n",
       "      <td>Votes</td>\n",
       "      <td>10934</td>\n",
       "    </tr>\n",
       "    <tr>\n",
       "      <th>17</th>\n",
       "      <td>cluster</td>\n",
       "      <td>0</td>\n",
       "    </tr>\n",
       "  </tbody>\n",
       "</table>\n",
       "</div>"
      ],
      "text/plain": [
       "                   index                       728\n",
       "0          Restaurant ID                     51705\n",
       "1        Restaurant Name                      Toit\n",
       "2           Country Code                         1\n",
       "3                   City                 Bangalore\n",
       "4              Longitude                 77.640709\n",
       "5               Latitude                 12.979166\n",
       "6               Cuisines  Italian, American, Pizza\n",
       "7   Average Cost for two                      2000\n",
       "8               Currency        Indian Rupees(Rs.)\n",
       "9      Has Table booking                        No\n",
       "10   Has Online delivery                        No\n",
       "11     Is delivering now                        No\n",
       "12           Price range                         4\n",
       "13      Aggregate rating                       4.8\n",
       "14          Rating color                Dark Green\n",
       "15           Rating text                 Excellent\n",
       "16                 Votes                     10934\n",
       "17               cluster                         0"
      ]
     },
     "execution_count": 85,
     "metadata": {},
     "output_type": "execute_result"
    }
   ],
   "source": [
    "# Identify the restaurants with the highest and lowest number of votes.\n",
    "\n",
    "# restaurant with highest votes\n",
    "\n",
    "df.loc[df['Votes'].idxmax()].reset_index()"
   ]
  },
  {
   "cell_type": "code",
   "execution_count": 86,
   "id": "4def6103",
   "metadata": {},
   "outputs": [
    {
     "data": {
      "text/html": [
       "<div>\n",
       "<style scoped>\n",
       "    .dataframe tbody tr th:only-of-type {\n",
       "        vertical-align: middle;\n",
       "    }\n",
       "\n",
       "    .dataframe tbody tr th {\n",
       "        vertical-align: top;\n",
       "    }\n",
       "\n",
       "    .dataframe thead th {\n",
       "        text-align: right;\n",
       "    }\n",
       "</style>\n",
       "<table border=\"1\" class=\"dataframe\">\n",
       "  <thead>\n",
       "    <tr style=\"text-align: right;\">\n",
       "      <th></th>\n",
       "      <th>index</th>\n",
       "      <th>69</th>\n",
       "    </tr>\n",
       "  </thead>\n",
       "  <tbody>\n",
       "    <tr>\n",
       "      <th>0</th>\n",
       "      <td>Restaurant ID</td>\n",
       "      <td>6710645</td>\n",
       "    </tr>\n",
       "    <tr>\n",
       "      <th>1</th>\n",
       "      <td>Restaurant Name</td>\n",
       "      <td>Cantinho da Gula</td>\n",
       "    </tr>\n",
       "    <tr>\n",
       "      <th>2</th>\n",
       "      <td>Country Code</td>\n",
       "      <td>30</td>\n",
       "    </tr>\n",
       "    <tr>\n",
       "      <th>3</th>\n",
       "      <td>City</td>\n",
       "      <td>Sao Paulo</td>\n",
       "    </tr>\n",
       "    <tr>\n",
       "      <th>4</th>\n",
       "      <td>Longitude</td>\n",
       "      <td>-46.675667</td>\n",
       "    </tr>\n",
       "    <tr>\n",
       "      <th>5</th>\n",
       "      <td>Latitude</td>\n",
       "      <td>-23.581</td>\n",
       "    </tr>\n",
       "    <tr>\n",
       "      <th>6</th>\n",
       "      <td>Cuisines</td>\n",
       "      <td>Brazilian</td>\n",
       "    </tr>\n",
       "    <tr>\n",
       "      <th>7</th>\n",
       "      <td>Average Cost for two</td>\n",
       "      <td>55</td>\n",
       "    </tr>\n",
       "    <tr>\n",
       "      <th>8</th>\n",
       "      <td>Currency</td>\n",
       "      <td>Brazilian Real(BRL)</td>\n",
       "    </tr>\n",
       "    <tr>\n",
       "      <th>9</th>\n",
       "      <td>Has Table booking</td>\n",
       "      <td>No</td>\n",
       "    </tr>\n",
       "    <tr>\n",
       "      <th>10</th>\n",
       "      <td>Has Online delivery</td>\n",
       "      <td>No</td>\n",
       "    </tr>\n",
       "    <tr>\n",
       "      <th>11</th>\n",
       "      <td>Is delivering now</td>\n",
       "      <td>No</td>\n",
       "    </tr>\n",
       "    <tr>\n",
       "      <th>12</th>\n",
       "      <td>Price range</td>\n",
       "      <td>2</td>\n",
       "    </tr>\n",
       "    <tr>\n",
       "      <th>13</th>\n",
       "      <td>Aggregate rating</td>\n",
       "      <td>0.0</td>\n",
       "    </tr>\n",
       "    <tr>\n",
       "      <th>14</th>\n",
       "      <td>Rating color</td>\n",
       "      <td>White</td>\n",
       "    </tr>\n",
       "    <tr>\n",
       "      <th>15</th>\n",
       "      <td>Rating text</td>\n",
       "      <td>Not rated</td>\n",
       "    </tr>\n",
       "    <tr>\n",
       "      <th>16</th>\n",
       "      <td>Votes</td>\n",
       "      <td>0</td>\n",
       "    </tr>\n",
       "    <tr>\n",
       "      <th>17</th>\n",
       "      <td>cluster</td>\n",
       "      <td>2</td>\n",
       "    </tr>\n",
       "  </tbody>\n",
       "</table>\n",
       "</div>"
      ],
      "text/plain": [
       "                   index                   69\n",
       "0          Restaurant ID              6710645\n",
       "1        Restaurant Name     Cantinho da Gula\n",
       "2           Country Code                   30\n",
       "3                   City            Sao Paulo\n",
       "4              Longitude           -46.675667\n",
       "5               Latitude              -23.581\n",
       "6               Cuisines            Brazilian\n",
       "7   Average Cost for two                   55\n",
       "8               Currency  Brazilian Real(BRL)\n",
       "9      Has Table booking                   No\n",
       "10   Has Online delivery                   No\n",
       "11     Is delivering now                   No\n",
       "12           Price range                    2\n",
       "13      Aggregate rating                  0.0\n",
       "14          Rating color                White\n",
       "15           Rating text            Not rated\n",
       "16                 Votes                    0\n",
       "17               cluster                    2"
      ]
     },
     "execution_count": 86,
     "metadata": {},
     "output_type": "execute_result"
    }
   ],
   "source": [
    "# restaurant with lowest votes\n",
    "\n",
    "df.loc[df['Votes'].idxmin()].reset_index()"
   ]
  },
  {
   "cell_type": "code",
   "execution_count": 87,
   "id": "e72232f7",
   "metadata": {},
   "outputs": [
    {
     "name": "stdout",
     "output_type": "stream",
     "text": [
      "Correlation between Votes & Aggregate rating: 0.3134741803250008\n"
     ]
    }
   ],
   "source": [
    "# calculating correlation:\n",
    "\n",
    "correlation = df['Votes'].corr(df['Aggregate rating'])\n",
    "print(\"Correlation between Votes & Aggregate rating:\", correlation)"
   ]
  },
  {
   "cell_type": "code",
   "execution_count": 88,
   "id": "42629852",
   "metadata": {},
   "outputs": [
    {
     "data": {
      "image/png": "[encoded data removed]",
      "text/plain": [
       "<Figure size 640x480 with 1 Axes>"
      ]
     },
     "metadata": {},
     "output_type": "display_data"
    }
   ],
   "source": [
    "# plotting scatter graph to visualise correlation\n",
    "\n",
    "plt.scatter(df['Votes'], df['Aggregate rating'], c=np.where(df['Aggregate rating'] < 1.5, 'blue', 'cyan'))\n",
    "plt.xlabel('Votes')\n",
    "plt.ylabel('Aggregate rating')\n",
    "plt.title('Correlation between Votes and Aggregate rating (r={:.2f})'.format(correlation))\n",
    "plt.show()"
   ]
  },
  {
   "cell_type": "markdown",
   "id": "c93722ec",
   "metadata": {},
   "source": [
    "Exploring the Vote analysis provides the following:\n",
    "\n",
    "- Maximum votes (51,705), bagged by Restaurant 'Toit' from Bangalore, India, and the minimum votes (0) for restaurant 'Cantinho da Gula' of Sao Paulo, Brazil.\n",
    "- The correlation coefficient (r=0.31) confirms this weak positive correlation, shows a weak positive correlation between the number of votes and the aggregate rating"
   ]
  },
  {
   "cell_type": "markdown",
   "id": "ed7e8d88",
   "metadata": {},
   "source": [
    "Task 3 : Price Range vs Online Delivery & Table Booking\n",
    "\n",
    "- Analyze if there is a relationship between the price range and the availability of online delivery and table booking.\n",
    "- Determine if higher-priced restaurants are more likely to offer these services."
   ]
  },
  {
   "cell_type": "code",
   "execution_count": 89,
   "id": "ea178810",
   "metadata": {},
   "outputs": [
    {
     "name": "stdout",
     "output_type": "stream",
     "text": [
      "Price v/s Online Delivery\n",
      "Has Online delivery    No   Yes\n",
      "Price range                    \n",
      "1                    3737   701\n",
      "2                    1827  1286\n",
      "3                     994   411\n",
      "4                     533    53\n",
      "\n",
      "Price v/s Table Booking\n",
      "Has Table booking    No  Yes\n",
      "Price range                 \n",
      "1                  4437    1\n",
      "2                  2874  239\n",
      "3                   761  644\n",
      "4                   312  274\n"
     ]
    }
   ],
   "source": [
    "# Analyze if there is a relationship between the price range and the availability of online delivery and table booking.\n",
    "\n",
    "price_vs_onlinedelivery = df.groupby('Price range')['Has Online delivery'].value_counts().unstack()\n",
    "price_vs_tablebooking = df.groupby('Price range')['Has Table booking'].value_counts().unstack()\n",
    "\n",
    "print(\"Price v/s Online Delivery\")\n",
    "print (price_vs_onlinedelivery)\n",
    "print(\"\")  # added an empty line\n",
    "print(\"Price v/s Table Booking\")\n",
    "print (price_vs_tablebooking)"
   ]
  },
  {
   "cell_type": "code",
   "execution_count": 90,
   "id": "0557f509",
   "metadata": {},
   "outputs": [
    {
     "data": {
      "image/png": "[encoded data removed]",
      "text/plain": [
       "<Figure size 600x300 with 1 Axes>"
      ]
     },
     "metadata": {},
     "output_type": "display_data"
    },
    {
     "data": {
      "image/png": "[encoded data removed]",
      "text/plain": [
       "<Figure size 600x300 with 1 Axes>"
      ]
     },
     "metadata": {},
     "output_type": "display_data"
    }
   ],
   "source": [
    "# plotting the relationship between the price range and the availability of online\n",
    "\n",
    "plt.figure(figsize=(6, 3))\n",
    "plt.bar(price_vs_onlinedelivery.index, price_vs_onlinedelivery['No'], label='No')\n",
    "plt.bar(price_vs_onlinedelivery.index, price_vs_onlinedelivery['Yes'], bottom=price_vs_onlinedelivery['No'], label='Yes')\n",
    "plt.xlabel('Price Range')\n",
    "plt.ylabel('Proportion')\n",
    "plt.title('Price v/s Online Delivery')\n",
    "plt.legend()\n",
    "plt.show()\n",
    "\n",
    "# Plot Price v/s Table Booking\n",
    "plt.figure(figsize=(6, 3))\n",
    "plt.bar(price_vs_tablebooking.index, price_vs_tablebooking['No'], label='No')\n",
    "plt.bar(price_vs_tablebooking.index, price_vs_tablebooking['Yes'], bottom=price_vs_tablebooking['No'], label='Yes')\n",
    "plt.xlabel('Price Range')\n",
    "plt.ylabel('Proportion')\n",
    "plt.title('Price v/s Table Booking')\n",
    "plt.legend()\n",
    "plt.show()"
   ]
  },
  {
   "cell_type": "code",
   "execution_count": 91,
   "id": "48a2e871",
   "metadata": {},
   "outputs": [
    {
     "data": {
      "text/html": [
       "<div>\n",
       "<style scoped>\n",
       "    .dataframe tbody tr th:only-of-type {\n",
       "        vertical-align: middle;\n",
       "    }\n",
       "\n",
       "    .dataframe tbody tr th {\n",
       "        vertical-align: top;\n",
       "    }\n",
       "\n",
       "    .dataframe thead th {\n",
       "        text-align: right;\n",
       "    }\n",
       "</style>\n",
       "<table border=\"1\" class=\"dataframe\">\n",
       "  <thead>\n",
       "    <tr style=\"text-align: right;\">\n",
       "      <th></th>\n",
       "      <th>index</th>\n",
       "      <th>Restaurant ID</th>\n",
       "      <th>Restaurant Name</th>\n",
       "      <th>Country Code</th>\n",
       "      <th>City</th>\n",
       "      <th>Longitude</th>\n",
       "      <th>Latitude</th>\n",
       "      <th>Cuisines</th>\n",
       "      <th>Average Cost for two</th>\n",
       "      <th>Currency</th>\n",
       "      <th>Has Table booking</th>\n",
       "      <th>Has Online delivery</th>\n",
       "      <th>Is delivering now</th>\n",
       "      <th>Price range</th>\n",
       "      <th>Aggregate rating</th>\n",
       "      <th>Rating color</th>\n",
       "      <th>Rating text</th>\n",
       "      <th>Votes</th>\n",
       "      <th>cluster</th>\n",
       "    </tr>\n",
       "  </thead>\n",
       "  <tbody>\n",
       "    <tr>\n",
       "      <th>0</th>\n",
       "      <td>0</td>\n",
       "      <td>6317637</td>\n",
       "      <td>Le Petit Souffle</td>\n",
       "      <td>162</td>\n",
       "      <td>Makati City</td>\n",
       "      <td>121.027535</td>\n",
       "      <td>14.565443</td>\n",
       "      <td>French, Japanese, Desserts</td>\n",
       "      <td>1100</td>\n",
       "      <td>Botswana Pula(P)</td>\n",
       "      <td>Yes</td>\n",
       "      <td>No</td>\n",
       "      <td>No</td>\n",
       "      <td>3</td>\n",
       "      <td>4.8</td>\n",
       "      <td>Dark Green</td>\n",
       "      <td>Excellent</td>\n",
       "      <td>314</td>\n",
       "      <td>0</td>\n",
       "    </tr>\n",
       "    <tr>\n",
       "      <th>1</th>\n",
       "      <td>1</td>\n",
       "      <td>6304287</td>\n",
       "      <td>Izakaya Kikufuji</td>\n",
       "      <td>162</td>\n",
       "      <td>Makati City</td>\n",
       "      <td>121.014101</td>\n",
       "      <td>14.553708</td>\n",
       "      <td>Japanese</td>\n",
       "      <td>1200</td>\n",
       "      <td>Botswana Pula(P)</td>\n",
       "      <td>Yes</td>\n",
       "      <td>No</td>\n",
       "      <td>No</td>\n",
       "      <td>3</td>\n",
       "      <td>4.5</td>\n",
       "      <td>Dark Green</td>\n",
       "      <td>Excellent</td>\n",
       "      <td>591</td>\n",
       "      <td>0</td>\n",
       "    </tr>\n",
       "    <tr>\n",
       "      <th>2</th>\n",
       "      <td>2</td>\n",
       "      <td>6300002</td>\n",
       "      <td>Heat - Edsa Shangri-La</td>\n",
       "      <td>162</td>\n",
       "      <td>Mandaluyong City</td>\n",
       "      <td>121.056831</td>\n",
       "      <td>14.581404</td>\n",
       "      <td>Seafood, Asian, Filipino, Indian</td>\n",
       "      <td>4000</td>\n",
       "      <td>Botswana Pula(P)</td>\n",
       "      <td>Yes</td>\n",
       "      <td>No</td>\n",
       "      <td>No</td>\n",
       "      <td>4</td>\n",
       "      <td>4.4</td>\n",
       "      <td>Green</td>\n",
       "      <td>Very Good</td>\n",
       "      <td>270</td>\n",
       "      <td>0</td>\n",
       "    </tr>\n",
       "    <tr>\n",
       "      <th>3</th>\n",
       "      <td>3</td>\n",
       "      <td>6318506</td>\n",
       "      <td>Ooma</td>\n",
       "      <td>162</td>\n",
       "      <td>Mandaluyong City</td>\n",
       "      <td>121.056475</td>\n",
       "      <td>14.585318</td>\n",
       "      <td>Japanese, Sushi</td>\n",
       "      <td>1500</td>\n",
       "      <td>Botswana Pula(P)</td>\n",
       "      <td>No</td>\n",
       "      <td>No</td>\n",
       "      <td>No</td>\n",
       "      <td>4</td>\n",
       "      <td>4.9</td>\n",
       "      <td>Dark Green</td>\n",
       "      <td>Excellent</td>\n",
       "      <td>365</td>\n",
       "      <td>0</td>\n",
       "    </tr>\n",
       "    <tr>\n",
       "      <th>4</th>\n",
       "      <td>4</td>\n",
       "      <td>6314302</td>\n",
       "      <td>Sambo Kojin</td>\n",
       "      <td>162</td>\n",
       "      <td>Mandaluyong City</td>\n",
       "      <td>121.057508</td>\n",
       "      <td>14.584450</td>\n",
       "      <td>Japanese, Korean</td>\n",
       "      <td>1500</td>\n",
       "      <td>Botswana Pula(P)</td>\n",
       "      <td>Yes</td>\n",
       "      <td>No</td>\n",
       "      <td>No</td>\n",
       "      <td>4</td>\n",
       "      <td>4.8</td>\n",
       "      <td>Dark Green</td>\n",
       "      <td>Excellent</td>\n",
       "      <td>229</td>\n",
       "      <td>0</td>\n",
       "    </tr>\n",
       "    <tr>\n",
       "      <th>...</th>\n",
       "      <td>...</td>\n",
       "      <td>...</td>\n",
       "      <td>...</td>\n",
       "      <td>...</td>\n",
       "      <td>...</td>\n",
       "      <td>...</td>\n",
       "      <td>...</td>\n",
       "      <td>...</td>\n",
       "      <td>...</td>\n",
       "      <td>...</td>\n",
       "      <td>...</td>\n",
       "      <td>...</td>\n",
       "      <td>...</td>\n",
       "      <td>...</td>\n",
       "      <td>...</td>\n",
       "      <td>...</td>\n",
       "      <td>...</td>\n",
       "      <td>...</td>\n",
       "      <td>...</td>\n",
       "    </tr>\n",
       "    <tr>\n",
       "      <th>1986</th>\n",
       "      <td>9545</td>\n",
       "      <td>5915054</td>\n",
       "      <td>Baltazar</td>\n",
       "      <td>208</td>\n",
       "      <td>Istanbul</td>\n",
       "      <td>28.981103</td>\n",
       "      <td>41.025785</td>\n",
       "      <td>Burger, Izgara</td>\n",
       "      <td>90</td>\n",
       "      <td>Turkish Lira(TL)</td>\n",
       "      <td>No</td>\n",
       "      <td>No</td>\n",
       "      <td>No</td>\n",
       "      <td>3</td>\n",
       "      <td>4.3</td>\n",
       "      <td>Green</td>\n",
       "      <td>Very Good</td>\n",
       "      <td>870</td>\n",
       "      <td>2</td>\n",
       "    </tr>\n",
       "    <tr>\n",
       "      <th>1987</th>\n",
       "      <td>9546</td>\n",
       "      <td>5915730</td>\n",
       "      <td>Naml۱ Gurme</td>\n",
       "      <td>208</td>\n",
       "      <td>Istanbul</td>\n",
       "      <td>28.977392</td>\n",
       "      <td>41.022793</td>\n",
       "      <td>Turkish</td>\n",
       "      <td>80</td>\n",
       "      <td>Turkish Lira(TL)</td>\n",
       "      <td>No</td>\n",
       "      <td>No</td>\n",
       "      <td>No</td>\n",
       "      <td>3</td>\n",
       "      <td>4.1</td>\n",
       "      <td>Green</td>\n",
       "      <td>Very Good</td>\n",
       "      <td>788</td>\n",
       "      <td>2</td>\n",
       "    </tr>\n",
       "    <tr>\n",
       "      <th>1988</th>\n",
       "      <td>9547</td>\n",
       "      <td>5908749</td>\n",
       "      <td>Ceviz A��ac۱</td>\n",
       "      <td>208</td>\n",
       "      <td>Istanbul</td>\n",
       "      <td>29.041297</td>\n",
       "      <td>41.009847</td>\n",
       "      <td>World Cuisine, Patisserie, Cafe</td>\n",
       "      <td>105</td>\n",
       "      <td>Turkish Lira(TL)</td>\n",
       "      <td>No</td>\n",
       "      <td>No</td>\n",
       "      <td>No</td>\n",
       "      <td>3</td>\n",
       "      <td>4.2</td>\n",
       "      <td>Green</td>\n",
       "      <td>Very Good</td>\n",
       "      <td>1034</td>\n",
       "      <td>2</td>\n",
       "    </tr>\n",
       "    <tr>\n",
       "      <th>1989</th>\n",
       "      <td>9548</td>\n",
       "      <td>5915807</td>\n",
       "      <td>Huqqa</td>\n",
       "      <td>208</td>\n",
       "      <td>Istanbul</td>\n",
       "      <td>29.034640</td>\n",
       "      <td>41.055817</td>\n",
       "      <td>Italian, World Cuisine</td>\n",
       "      <td>170</td>\n",
       "      <td>Turkish Lira(TL)</td>\n",
       "      <td>No</td>\n",
       "      <td>No</td>\n",
       "      <td>No</td>\n",
       "      <td>4</td>\n",
       "      <td>3.7</td>\n",
       "      <td>Yellow</td>\n",
       "      <td>Good</td>\n",
       "      <td>661</td>\n",
       "      <td>2</td>\n",
       "    </tr>\n",
       "    <tr>\n",
       "      <th>1990</th>\n",
       "      <td>9549</td>\n",
       "      <td>5916112</td>\n",
       "      <td>A���k Kahve</td>\n",
       "      <td>208</td>\n",
       "      <td>Istanbul</td>\n",
       "      <td>29.036019</td>\n",
       "      <td>41.057979</td>\n",
       "      <td>Restaurant Cafe</td>\n",
       "      <td>120</td>\n",
       "      <td>Turkish Lira(TL)</td>\n",
       "      <td>No</td>\n",
       "      <td>No</td>\n",
       "      <td>No</td>\n",
       "      <td>4</td>\n",
       "      <td>4.0</td>\n",
       "      <td>Green</td>\n",
       "      <td>Very Good</td>\n",
       "      <td>901</td>\n",
       "      <td>2</td>\n",
       "    </tr>\n",
       "  </tbody>\n",
       "</table>\n",
       "<p>1991 rows × 19 columns</p>\n",
       "</div>"
      ],
      "text/plain": [
       "      index  Restaurant ID         Restaurant Name  Country Code  \\\n",
       "0         0        6317637        Le Petit Souffle           162   \n",
       "1         1        6304287        Izakaya Kikufuji           162   \n",
       "2         2        6300002  Heat - Edsa Shangri-La           162   \n",
       "3         3        6318506                    Ooma           162   \n",
       "4         4        6314302             Sambo Kojin           162   \n",
       "...     ...            ...                     ...           ...   \n",
       "1986   9545        5915054                Baltazar           208   \n",
       "1987   9546        5915730             Naml۱ Gurme           208   \n",
       "1988   9547        5908749            Ceviz A��ac۱           208   \n",
       "1989   9548        5915807                   Huqqa           208   \n",
       "1990   9549        5916112             A���k Kahve           208   \n",
       "\n",
       "                  City   Longitude   Latitude  \\\n",
       "0          Makati City  121.027535  14.565443   \n",
       "1          Makati City  121.014101  14.553708   \n",
       "2     Mandaluyong City  121.056831  14.581404   \n",
       "3     Mandaluyong City  121.056475  14.585318   \n",
       "4     Mandaluyong City  121.057508  14.584450   \n",
       "...                ...         ...        ...   \n",
       "1986          Istanbul   28.981103  41.025785   \n",
       "1987          Istanbul   28.977392  41.022793   \n",
       "1988          Istanbul   29.041297  41.009847   \n",
       "1989          Istanbul   29.034640  41.055817   \n",
       "1990          Istanbul   29.036019  41.057979   \n",
       "\n",
       "                              Cuisines  Average Cost for two  \\\n",
       "0           French, Japanese, Desserts                  1100   \n",
       "1                             Japanese                  1200   \n",
       "2     Seafood, Asian, Filipino, Indian                  4000   \n",
       "3                      Japanese, Sushi                  1500   \n",
       "4                     Japanese, Korean                  1500   \n",
       "...                                ...                   ...   \n",
       "1986                    Burger, Izgara                    90   \n",
       "1987                           Turkish                    80   \n",
       "1988   World Cuisine, Patisserie, Cafe                   105   \n",
       "1989            Italian, World Cuisine                   170   \n",
       "1990                   Restaurant Cafe                   120   \n",
       "\n",
       "              Currency Has Table booking Has Online delivery  \\\n",
       "0     Botswana Pula(P)               Yes                  No   \n",
       "1     Botswana Pula(P)               Yes                  No   \n",
       "2     Botswana Pula(P)               Yes                  No   \n",
       "3     Botswana Pula(P)                No                  No   \n",
       "4     Botswana Pula(P)               Yes                  No   \n",
       "...                ...               ...                 ...   \n",
       "1986  Turkish Lira(TL)                No                  No   \n",
       "1987  Turkish Lira(TL)                No                  No   \n",
       "1988  Turkish Lira(TL)                No                  No   \n",
       "1989  Turkish Lira(TL)                No                  No   \n",
       "1990  Turkish Lira(TL)                No                  No   \n",
       "\n",
       "     Is delivering now  Price range  Aggregate rating Rating color  \\\n",
       "0                   No            3               4.8   Dark Green   \n",
       "1                   No            3               4.5   Dark Green   \n",
       "2                   No            4               4.4        Green   \n",
       "3                   No            4               4.9   Dark Green   \n",
       "4                   No            4               4.8   Dark Green   \n",
       "...                ...          ...               ...          ...   \n",
       "1986                No            3               4.3        Green   \n",
       "1987                No            3               4.1        Green   \n",
       "1988                No            3               4.2        Green   \n",
       "1989                No            4               3.7       Yellow   \n",
       "1990                No            4               4.0        Green   \n",
       "\n",
       "     Rating text  Votes  cluster  \n",
       "0      Excellent    314        0  \n",
       "1      Excellent    591        0  \n",
       "2      Very Good    270        0  \n",
       "3      Excellent    365        0  \n",
       "4      Excellent    229        0  \n",
       "...          ...    ...      ...  \n",
       "1986   Very Good    870        2  \n",
       "1987   Very Good    788        2  \n",
       "1988   Very Good   1034        2  \n",
       "1989        Good    661        2  \n",
       "1990   Very Good    901        2  \n",
       "\n",
       "[1991 rows x 19 columns]"
      ]
     },
     "execution_count": 91,
     "metadata": {},
     "output_type": "execute_result"
    }
   ],
   "source": [
    "# Calculate the average length of reviews and explore if there is a relationship between review length and rating.\n",
    "\n",
    "# high-priced restaurants:\n",
    "\n",
    "hpr = df.loc[df['Price range'] > df['Price range'].median()]\n",
    "hpr.reset_index()"
   ]
  },
  {
   "cell_type": "code",
   "execution_count": 92,
   "id": "92a0a07c",
   "metadata": {},
   "outputs": [
    {
     "name": "stdout",
     "output_type": "stream",
     "text": [
      "\n",
      "High-Priced restaurants v/s Online Delivery:\n",
      "Has Online delivery\n",
      "No     1527\n",
      "Yes     464\n",
      "Name: count, dtype: int64\n",
      "\n",
      "High-Priced restaurants v/s Table Booking:\n",
      "Has Table booking\n",
      "No     1073\n",
      "Yes     918\n",
      "Name: count, dtype: int64\n"
     ]
    }
   ],
   "source": [
    "# counting high priced restaurants with online delivery and table booking:\n",
    "\n",
    "hpr_vs_onlinedelivery = hpr['Has Online delivery'].value_counts()\n",
    "hpr_vs_tablebooking = hpr['Has Table booking'].value_counts()\n",
    "\n",
    "print(\"\\nHigh-Priced restaurants v/s Online Delivery:\")\n",
    "print(hpr_vs_onlinedelivery)\n",
    "print(\"\\nHigh-Priced restaurants v/s Table Booking:\")\n",
    "print(hpr_vs_tablebooking)"
   ]
  },
  {
   "cell_type": "code",
   "execution_count": 93,
   "id": "2ba4c5a8",
   "metadata": {},
   "outputs": [
    {
     "data": {
      "image/png": "[encoded data removed]",
      "text/plain": [
       "<Figure size 640x480 with 1 Axes>"
      ]
     },
     "metadata": {},
     "output_type": "display_data"
    },
    {
     "data": {
      "image/png": "[encoded data removed]",
      "text/plain": [
       "<Figure size 640x480 with 1 Axes>"
      ]
     },
     "metadata": {},
     "output_type": "display_data"
    }
   ],
   "source": [
    "# ploting it on graph to have the visual for High-Priced restaurants v/s Online Delivery:\n",
    "\n",
    "plt.pie(hpr_vs_onlinedelivery.values, labels = hpr_vs_onlinedelivery.index, autopct='%1.1f%%', colors= [\"orange\", \"purple\"])\n",
    "plt.title(\"High-Priced restaurants v/s Online Delivery\")\n",
    "plt.show()\n",
    "\n",
    "# ploting it on graph to have the visual for High-Priced restaurants v/s Table Booking:\n",
    "\n",
    "plt.pie(hpr_vs_tablebooking.values, labels = hpr_vs_tablebooking.index, autopct='%1.1f%%', colors= [\"pink\", \"cyan\"])\n",
    "plt.title(\"High-Priced restaurants v/s Table Booking\")\n",
    "plt.show()"
   ]
  },
  {
   "cell_type": "markdown",
   "id": "49fdf7da",
   "metadata": {},
   "source": [
    "The analysis on Price range v/s online delivery and table booking gives following insight:\n",
    "\n",
    "- The proportion of restaurants with online delivery (Yes) increases as the price range increases, with the highest proportion in price range 2 and the proportion of restaurants with table booking (Yes) increases as the price range increases, with the highest proportion in price ranges 3 and 4.\n",
    "- Out of 1991 High priced restaurants only 464 (23.3%) restaurants provide online delivery, whereas 918 (46.1%) high-priced restaurants provide table booking."
   ]
  },
  {
   "cell_type": "markdown",
   "id": "f5bbd806",
   "metadata": {},
   "source": [
    "# Summery"
   ]
  },
  {
   "cell_type": "markdown",
   "id": "770643b3",
   "metadata": {},
   "source": [
    "The restaurant dataset reveals:\n",
    "\n",
    "- Top 3 cuisines: North Indian, Chinese, and Chinese.\n",
    "- New Delhi has the most restaurants, while Inner City has the highest average rating (4.9)\n",
    "- Lower-priced restaurants receive more orders (46.51% in price range 1)\n",
    "- Online delivery restaurants have higher average ratings (25.7% of restaurants)\n",
    "- Most common rating range: 3-4, with an average rating of 3.5 and 156.77 votes per restaurant\n",
    "- Clusters forming in South East Asia, primarily in India, followed by the USA and the rest of the world\n",
    "- 734 restaurant chains, with Cafe Coffee Day having the most restaurants (83) and Talaga Sampireun having the highest votes (5,517) with an average rating of 4.9\n",
    "- Most common positive review: \"Average\" (39.1% of data), most common negative review: \"Poor\" (1.9% of data)\n",
    "- Negative correlation between review length and rating, and weak positive correlation between votes and ratings (0.31)\n",
    "- Online delivery and table booking increase with higher price ranges, peaking at range 2 and ranges 3 and 4, respectively."
   ]
  }
 ],
 "metadata": {
  "kernelspec": {
   "display_name": "Python 3 (ipykernel)",
   "language": "python",
   "name": "python3"
  },
  "language_info": {
   "codemirror_mode": {
    "name": "ipython",
    "version": 3
   },
   "file_extension": ".py",
   "mimetype": "text/x-python",
   "name": "python",
   "nbconvert_exporter": "python",
   "pygments_lexer": "ipython3",
   "version": "3.11.5"
  }
 },
 "nbformat": 4,
 "nbformat_minor": 5
}
